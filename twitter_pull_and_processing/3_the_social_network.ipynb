{
 "cells": [
  {
   "cell_type": "markdown",
   "metadata": {},
   "source": [
    "# The Social Network"
   ]
  },
  {
   "cell_type": "code",
   "execution_count": 7,
   "metadata": {},
   "outputs": [],
   "source": [
    "import pandas as pd\n",
    "import numpy as np\n",
    "import networkx as nx\n",
    "import community\n",
    "import matplotlib.pyplot as plt\n",
    "from operator import itemgetter"
   ]
  },
  {
   "cell_type": "markdown",
   "metadata": {},
   "source": [
    "## Building a directed network"
   ]
  },
  {
   "cell_type": "code",
   "execution_count": 8,
   "metadata": {},
   "outputs": [
    {
     "name": "stderr",
     "output_type": "stream",
     "text": [
      "C:\\Users\\USUARIO\\Anaconda3\\lib\\site-packages\\IPython\\core\\interactiveshell.py:2728: DtypeWarning: Columns (1) have mixed types. Specify dtype option on import or set low_memory=False.\n",
      "  interactivity=interactivity, compiler=compiler, result=result)\n"
     ]
    }
   ],
   "source": [
    "df = pd.read_csv('all_tweets.csv',sep=',')"
   ]
  },
  {
   "cell_type": "code",
   "execution_count": 9,
   "metadata": {},
   "outputs": [
    {
     "data": {
      "text/plain": [
       "'RT @CanadaFP: Canada announces support for #elections and #democracy in #Ukraine. https://t.co/KntgUdxg1N https://t.co/3DUXdERHBR'"
      ]
     },
     "execution_count": 9,
     "metadata": {},
     "output_type": "execute_result"
    }
   ],
   "source": [
    "df.text.iloc[1]"
   ]
  },
  {
   "cell_type": "code",
   "execution_count": 10,
   "metadata": {},
   "outputs": [],
   "source": [
    "df = df[df.language == 'en']"
   ]
  },
  {
   "cell_type": "code",
   "execution_count": 11,
   "metadata": {},
   "outputs": [
    {
     "name": "stdout",
     "output_type": "stream",
     "text": [
      "2018-12-05 06:36:02\n",
      "2018-12-06 20:36:00\n"
     ]
    }
   ],
   "source": [
    "print(min(df.date))\n",
    "print(max(df.date))"
   ]
  },
  {
   "cell_type": "markdown",
   "metadata": {},
   "source": [
    "Subset data to add nodes to network"
   ]
  },
  {
   "cell_type": "code",
   "execution_count": 12,
   "metadata": {},
   "outputs": [],
   "source": [
    "nodes_retweets = df.loc[df.retweet_user_name.notna(),['user_name','retweet_user_name']]\n",
    "nodes_quotes = df.loc[df.quoted_user_name.notna(),['user_name','quoted_user_name']]\n",
    "nodes_reply = df.loc[df.reply_user_name.notna(),['user_name','reply_user_name']]"
   ]
  },
  {
   "cell_type": "code",
   "execution_count": 13,
   "metadata": {},
   "outputs": [
    {
     "data": {
      "text/plain": [
       "(198221, 2)"
      ]
     },
     "execution_count": 13,
     "metadata": {},
     "output_type": "execute_result"
    }
   ],
   "source": [
    "nodes_retweets.shape"
   ]
  },
  {
   "cell_type": "code",
   "execution_count": 14,
   "metadata": {},
   "outputs": [],
   "source": [
    "df_RTs = nodes_retweets.groupby(['user_name','retweet_user_name']).agg({'retweet_user_name':'count'})\n",
    "df_RTs = df_RTs.rename(columns={'retweet_user_name':'RT_count'})\n",
    "df_RTs.reset_index(inplace=True)"
   ]
  },
  {
   "cell_type": "markdown",
   "metadata": {},
   "source": [
    "### Network graph connected only by retweets"
   ]
  },
  {
   "cell_type": "code",
   "execution_count": 15,
   "metadata": {},
   "outputs": [],
   "source": [
    "N = nx.DiGraph()\n",
    "e = zip(df_RTs.user_name,df_RTs.retweet_user_name,df_RTs.RT_count.apply(lambda x: {'weight':x}))\n",
    "# e = zip(df_RTs.user_name,df_RTs.retweet_user_name)\n",
    "N.add_edges_from(e)\n",
    "\n",
    "# remove self RTs\n",
    "N.remove_edges_from(N.selfloop_edges())"
   ]
  },
  {
   "cell_type": "markdown",
   "metadata": {},
   "source": [
    "### Community finding"
   ]
  },
  {
   "cell_type": "code",
   "execution_count": 16,
   "metadata": {},
   "outputs": [],
   "source": [
    "partition = community.best_partition(N.to_undirected())"
   ]
  },
  {
   "cell_type": "code",
   "execution_count": 152,
   "metadata": {},
   "outputs": [
    {
     "name": "stdout",
     "output_type": "stream",
     "text": [
      "1638\n"
     ]
    }
   ],
   "source": [
    "# extracting community info and putting them into a dataframe\n",
    "values = [partition.get(node) for node in N.nodes()]\n",
    "node_names = [node for node in N.nodes()]\n",
    "print(len(set(values)))\n",
    "temp_community = pd.DataFrame(node_names,values).reset_index()\n",
    "temp_community.columns = ['community','user_name']"
   ]
  },
  {
   "cell_type": "code",
   "execution_count": null,
   "metadata": {},
   "outputs": [],
   "source": [
    "# joining to the original dataframe\n",
    "df = pd.merge(df, temp_community,how='left', on='user_name')\n",
    "# saving to csv\n",
    "df.to_csv('all_tweets_communities.csv')"
   ]
  },
  {
   "cell_type": "markdown",
   "metadata": {},
   "source": [
    "Networks with high modularity have dense connections between the nodes within modules but sparse connections between nodes in different modules."
   ]
  },
  {
   "cell_type": "code",
   "execution_count": 153,
   "metadata": {},
   "outputs": [
    {
     "data": {
      "text/plain": [
       "0.9563281279102909"
      ]
     },
     "execution_count": 153,
     "metadata": {},
     "output_type": "execute_result"
    }
   ],
   "source": [
    "community.modularity(partition,N.to_undirected())"
   ]
  },
  {
   "cell_type": "markdown",
   "metadata": {},
   "source": [
    "A closely connected social community will imply a faster rate of transmission of information. Communities are defined as groups of densely interconnected nodes that are only sparsely connected with the rest of the network. \n",
    "\n",
    "Hence, it may be imperative to identify the communities in networks since the communities may have quite different properties such as node degree, clustering coefficient, betweenness, centrality, etc., from that of the average network."
   ]
  },
  {
   "cell_type": "code",
   "execution_count": 80,
   "metadata": {},
   "outputs": [],
   "source": [
    "pr = nx.pagerank(N)\n",
    "\n",
    "# Save PageRank and Community Membership to the data dict for each node\n",
    "for n, d in N.nodes(data=True):\n",
    "    d['pagerank'] = pr[n]\n",
    "    d['community'] = partition[n]"
   ]
  },
  {
   "cell_type": "code",
   "execution_count": 81,
   "metadata": {},
   "outputs": [],
   "source": [
    "nx.write_gexf(N,'RT_complete_network.gexf')"
   ]
  },
  {
   "cell_type": "markdown",
   "metadata": {},
   "source": [
    "#############################################################################"
   ]
  },
  {
   "cell_type": "markdown",
   "metadata": {},
   "source": [
    "### Subgraphs and Strongly Connected Components"
   ]
  },
  {
   "cell_type": "code",
   "execution_count": 154,
   "metadata": {},
   "outputs": [
    {
     "name": "stdout",
     "output_type": "stream",
     "text": [
      "Size of largest connected components: [13319, 91, 84, 67, 64, 61, 58, 55, 50, 50, 43, 40, 38, 27, 24, 24, 24, 23, 23, 23]\n"
     ]
    }
   ],
   "source": [
    "# Getting the big component\n",
    "N_subgraphs = sorted(nx.connected_component_subgraphs(N.to_undirected()), key=len, reverse=True)\n",
    "print('Size of largest connected components:', [len(g) for g in N_subgraphs[:20]])"
   ]
  },
  {
   "cell_type": "code",
   "execution_count": 155,
   "metadata": {},
   "outputs": [],
   "source": [
    "# Determine which community each user is in\n",
    "partition = community.best_partition(N_subgraphs[0].to_undirected())"
   ]
  },
  {
   "cell_type": "code",
   "execution_count": 156,
   "metadata": {},
   "outputs": [
    {
     "name": "stdout",
     "output_type": "stream",
     "text": [
      "70\n"
     ]
    }
   ],
   "source": [
    "# extracting community info and putting them into a dataframe\n",
    "values = [partition.get(node) for node in N.nodes()]\n",
    "node_names = [node for node in N.nodes()]\n",
    "print(len(set(values)))\n",
    "temp_community = pd.DataFrame(node_names,values).reset_index()\n",
    "temp_community.columns = ['community','user_name']"
   ]
  },
  {
   "cell_type": "code",
   "execution_count": 157,
   "metadata": {},
   "outputs": [
    {
     "data": {
      "text/plain": [
       "0.9334781417094957"
      ]
     },
     "execution_count": 157,
     "metadata": {},
     "output_type": "execute_result"
    }
   ],
   "source": [
    "community.modularity(partition,N_subgraphs[0].to_undirected())"
   ]
  },
  {
   "cell_type": "code",
   "execution_count": 158,
   "metadata": {},
   "outputs": [
    {
     "name": "stdout",
     "output_type": "stream",
     "text": [
      "Size of largest strongly connected components: [4, 4, 3, 2, 2, 2, 2, 2, 2, 2, 2, 2, 2, 1, 1, 1, 1, 1, 1, 1]\n"
     ]
    }
   ],
   "source": [
    "# getting the part of N that has the most nodes\n",
    "N_conn_comp = sorted(nx.strongly_connected_components(N),key=len, reverse=True)\n",
    "print('Size of largest strongly connected components:', [len(g) for g in N_conn_comp[:20]])"
   ]
  },
  {
   "cell_type": "code",
   "execution_count": 159,
   "metadata": {},
   "outputs": [],
   "source": [
    "# Create graph of largest strongly connected component\n",
    "# S = nx.subgraph(N, N_conn_comp[0])\n",
    "S = N_subgraphs[0]\n",
    "pr = nx.pagerank(S)\n",
    "\n",
    "# Save PageRank and Community Membership to the data dict for each node\n",
    "for n, d in S.nodes(data=True):\n",
    "    d['pagerank'] = pr[n]\n",
    "    d['community'] = partition[n]\n",
    "    #d['name'] = user_data_dict[n]['name']\n",
    "    #d['description'] = user_data_dict[n]['description']\n",
    "    #d['followers_count'] = user_data_dict[n]['followers_count']\n",
    "    #d['total_rts'] = user_data_dict[n]['total_rts']"
   ]
  },
  {
   "cell_type": "code",
   "execution_count": 160,
   "metadata": {},
   "outputs": [],
   "source": [
    "nx.write_gexf(S,'RT_big_component.gexf')"
   ]
  },
  {
   "cell_type": "markdown",
   "metadata": {},
   "source": [
    "#############################################################################"
   ]
  },
  {
   "cell_type": "code",
   "execution_count": null,
   "metadata": {},
   "outputs": [],
   "source": []
  }
 ],
 "metadata": {
  "kernelspec": {
   "display_name": "Python 3",
   "language": "python",
   "name": "python3"
  },
  "language_info": {
   "codemirror_mode": {
    "name": "ipython",
    "version": 3
   },
   "file_extension": ".py",
   "mimetype": "text/x-python",
   "name": "python",
   "nbconvert_exporter": "python",
   "pygments_lexer": "ipython3",
   "version": "3.6.4"
  }
 },
 "nbformat": 4,
 "nbformat_minor": 2
}
