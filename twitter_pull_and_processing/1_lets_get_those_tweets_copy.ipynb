{
 "cells": [
  {
   "cell_type": "code",
   "execution_count": 1,
   "metadata": {},
   "outputs": [],
   "source": [
    "import tweepy, sys, os, logging, json"
   ]
  },
  {
   "cell_type": "markdown",
   "metadata": {},
   "source": [
    "# Twitter API using Tweepy"
   ]
  },
  {
   "cell_type": "markdown",
   "metadata": {},
   "source": [
    "Set up activity log file:"
   ]
  },
  {
   "cell_type": "code",
   "execution_count": 2,
   "metadata": {},
   "outputs": [],
   "source": [
    "logging.basicConfig(filename='twitter_error_log.log',filemode='w', level=logging.ERROR)"
   ]
  },
  {
   "cell_type": "markdown",
   "metadata": {},
   "source": [
    "Load consumer key and secret securely:"
   ]
  },
  {
   "cell_type": "code",
   "execution_count": 3,
   "metadata": {},
   "outputs": [],
   "source": [
    "consumer_key = ''\n",
    "consumer_secret = ''"
   ]
  },
  {
   "cell_type": "markdown",
   "metadata": {},
   "source": [
    "Initialize API"
   ]
  },
  {
   "cell_type": "code",
   "execution_count": 4,
   "metadata": {},
   "outputs": [],
   "source": [
    "auth = tweepy.AppAuthHandler(consumer_key, consumer_secret)\n",
    " \n",
    "api = tweepy.API(auth, wait_on_rate_limit=True, wait_on_rate_limit_notify=True,\n",
    "                 parser=tweepy.parsers.JSONParser()\n",
    "                )\n",
    " \n",
    "if (not api):\n",
    "    print (\"Can't Authenticate\")\n",
    "    sys.exit(-1)"
   ]
  },
  {
   "cell_type": "markdown",
   "metadata": {},
   "source": [
    "Define twitter searches"
   ]
  },
  {
   "cell_type": "code",
   "execution_count": 6,
   "metadata": {},
   "outputs": [],
   "source": [
    "# Twitter API search terms\n",
    "climate_search = ('(global AND warming) OR #climate')\n",
    "victoria_search = ('victoria secret')\n",
    "news_search = ('(trump OR clinton) AND (health OR obamacare)')\n",
    "facebook_search = ('facebook AND (data OR email OR user OR emails OR documents OR confidential)')\n",
    "family_sep_search = ('family separation')\n",
    "basic_income_search = ('(universal AND basic AND income) OR (basic AND income)')\n",
    "democracy_search = ('democracy')\n",
    "\n",
    "searchQuery = democracy_search"
   ]
  },
  {
   "cell_type": "markdown",
   "metadata": {},
   "source": [
    "### Running the queries for all the tweets on a certain topic"
   ]
  },
  {
   "cell_type": "code",
   "execution_count": 7,
   "metadata": {
    "scrolled": true
   },
   "outputs": [
    {
     "ename": "KeyboardInterrupt",
     "evalue": "",
     "output_type": "error",
     "traceback": [
      "\u001b[1;31m---------------------------------------------------------------------------\u001b[0m",
      "\u001b[1;31mKeyboardInterrupt\u001b[0m                         Traceback (most recent call last)",
      "\u001b[1;32m<ipython-input-7-26c7e82a27e7>\u001b[0m in \u001b[0;36m<module>\u001b[1;34m()\u001b[0m\n\u001b[0;32m     26\u001b[0m             \u001b[1;32mif\u001b[0m \u001b[1;33m(\u001b[0m\u001b[1;32mnot\u001b[0m \u001b[0msinceId\u001b[0m\u001b[1;33m)\u001b[0m\u001b[1;33m:\u001b[0m\u001b[1;33m\u001b[0m\u001b[0m\n\u001b[0;32m     27\u001b[0m                 new_tweets = api.search(q=searchQuery, count=tweetsPerQry,\n\u001b[1;32m---> 28\u001b[1;33m                                         max_id=str(max_id - 1))\n\u001b[0m\u001b[0;32m     29\u001b[0m             \u001b[1;32melse\u001b[0m\u001b[1;33m:\u001b[0m\u001b[1;33m\u001b[0m\u001b[0m\n\u001b[0;32m     30\u001b[0m                 new_tweets = api.search(q=searchQuery, count=tweetsPerQry,\n",
      "\u001b[1;32m~\\Anaconda3\\lib\\site-packages\\tweepy\\binder.py\u001b[0m in \u001b[0;36m_call\u001b[1;34m(*args, **kwargs)\u001b[0m\n\u001b[0;32m    248\u001b[0m             \u001b[1;32mreturn\u001b[0m \u001b[0mmethod\u001b[0m\u001b[1;33m\u001b[0m\u001b[0m\n\u001b[0;32m    249\u001b[0m         \u001b[1;32melse\u001b[0m\u001b[1;33m:\u001b[0m\u001b[1;33m\u001b[0m\u001b[0m\n\u001b[1;32m--> 250\u001b[1;33m             \u001b[1;32mreturn\u001b[0m \u001b[0mmethod\u001b[0m\u001b[1;33m.\u001b[0m\u001b[0mexecute\u001b[0m\u001b[1;33m(\u001b[0m\u001b[1;33m)\u001b[0m\u001b[1;33m\u001b[0m\u001b[0m\n\u001b[0m\u001b[0;32m    251\u001b[0m \u001b[1;33m\u001b[0m\u001b[0m\n\u001b[0;32m    252\u001b[0m     \u001b[1;31m# Set pagination mode\u001b[0m\u001b[1;33m\u001b[0m\u001b[1;33m\u001b[0m\u001b[0m\n",
      "\u001b[1;32m~\\Anaconda3\\lib\\site-packages\\tweepy\\binder.py\u001b[0m in \u001b[0;36mexecute\u001b[1;34m(self)\u001b[0m\n\u001b[0;32m    162\u001b[0m                                     \u001b[1;32mif\u001b[0m \u001b[0mself\u001b[0m\u001b[1;33m.\u001b[0m\u001b[0mwait_on_rate_limit_notify\u001b[0m\u001b[1;33m:\u001b[0m\u001b[1;33m\u001b[0m\u001b[0m\n\u001b[0;32m    163\u001b[0m                                         \u001b[0mlog\u001b[0m\u001b[1;33m.\u001b[0m\u001b[0mwarning\u001b[0m\u001b[1;33m(\u001b[0m\u001b[1;34m\"Rate limit reached. Sleeping for: %d\"\u001b[0m \u001b[1;33m%\u001b[0m \u001b[0msleep_time\u001b[0m\u001b[1;33m)\u001b[0m\u001b[1;33m\u001b[0m\u001b[0m\n\u001b[1;32m--> 164\u001b[1;33m                                     \u001b[0mtime\u001b[0m\u001b[1;33m.\u001b[0m\u001b[0msleep\u001b[0m\u001b[1;33m(\u001b[0m\u001b[0msleep_time\u001b[0m \u001b[1;33m+\u001b[0m \u001b[1;36m5\u001b[0m\u001b[1;33m)\u001b[0m  \u001b[1;31m# sleep for few extra sec\u001b[0m\u001b[1;33m\u001b[0m\u001b[0m\n\u001b[0m\u001b[0;32m    165\u001b[0m \u001b[1;33m\u001b[0m\u001b[0m\n\u001b[0;32m    166\u001b[0m                 \u001b[1;31m# if self.wait_on_rate_limit and self._reset_time is not None and \\\u001b[0m\u001b[1;33m\u001b[0m\u001b[1;33m\u001b[0m\u001b[0m\n",
      "\u001b[1;31mKeyboardInterrupt\u001b[0m: "
     ]
    }
   ],
   "source": [
    "maxTweets = 1000000 # Some arbitrary large number\n",
    "tweetsPerQry = 100  # this is the max the API permits\n",
    "\n",
    "# If results from a specific ID onwards are reqd, set since_id to that ID.\n",
    "# else default to no lower limit, go as far back as API allows\n",
    "sinceId = None\n",
    "\n",
    "# If results only below a specific ID are reqd, set max_id to that ID.\n",
    "# else default to no upper limit, start from the most recent tweet matching the search query.\n",
    "max_id = -1\n",
    "\n",
    "tweetCount = 0\n",
    "tweetFiles = 0\n",
    "msg =  \"Downloading max {0} tweets\".format(maxTweets)\n",
    "logging.error(msg)\n",
    "tweets = []\n",
    "while 4000*tweetFiles + tweetCount < maxTweets:\n",
    "    try:\n",
    "        if (max_id <= 0):\n",
    "            if (not sinceId):\n",
    "                new_tweets = api.search(q=searchQuery, count=tweetsPerQry)\n",
    "            else:\n",
    "                new_tweets = api.search(q=searchQuery, count=tweetsPerQry,\n",
    "                                        since_id=sinceId)\n",
    "        else:\n",
    "            if (not sinceId):\n",
    "                new_tweets = api.search(q=searchQuery, count=tweetsPerQry,\n",
    "                                        max_id=str(max_id - 1))\n",
    "            else:\n",
    "                new_tweets = api.search(q=searchQuery, count=tweetsPerQry,\n",
    "                                        max_id=str(max_id - 1),\n",
    "                                        since_id=sinceId)\n",
    "                \n",
    "        new_tweets = new_tweets['statuses']\n",
    "        if len(new_tweets) == 0:\n",
    "            msg = 'No tweets found'\n",
    "            logging.error(msg)\n",
    "            break\n",
    "        \n",
    "        tweets.extend(new_tweets)\n",
    "        tweetCount += len(new_tweets)\n",
    "        msg = \"Downloaded {0} tweets\".format(tweetCount + tweetFiles*4000)\n",
    "        logging.error(msg)\n",
    "        max_id = new_tweets[-1]['id']\n",
    "        \n",
    "        if tweetCount > 4000:\n",
    "            with open('tweets'+str(tweetFiles)+'.json', 'w') as outfile:  \n",
    "                json.dump(tweets, outfile)\n",
    "            msg = \"JSON file saved\"\n",
    "            logging.error(msg)\n",
    "            tweetFiles += 1\n",
    "            tweetCount = 0\n",
    "            del tweets[:]\n",
    "                \n",
    "    except tweepy.TweepError as e:\n",
    "        msg = 'Query failed when max_id equaled {0}: {1}'.format(max_id, e)\n",
    "        logging.error(msg)\n",
    "\n",
    "if tweetCount > 0:\n",
    "    with open('tweets'+str(tweetFiles)+'.json', 'w') as outfile:  \n",
    "        json.dump(tweets, outfile)\n",
    "    msg = \"JSON file saved\"\n",
    "    logging.error(msg)\n",
    "    tweetFiles += 1\n",
    "    tweetCount = 0"
   ]
  },
  {
   "cell_type": "markdown",
   "metadata": {},
   "source": [
    "# Check the result of one file"
   ]
  },
  {
   "cell_type": "code",
   "execution_count": 3,
   "metadata": {},
   "outputs": [],
   "source": [
    "with open('tweets0.json') as json_file:  \n",
    "    test = json.load(json_file)"
   ]
  },
  {
   "cell_type": "code",
   "execution_count": 5,
   "metadata": {
    "collapsed": true
   },
   "outputs": [
    {
     "name": "stdout",
     "output_type": "stream",
     "text": [
      "4047\n"
     ]
    },
    {
     "data": {
      "text/plain": [
       "{'contributors': None,\n",
       " 'coordinates': None,\n",
       " 'created_at': 'Wed Nov 28 00:14:31 +0000 2018',\n",
       " 'entities': {'hashtags': [],\n",
       "  'symbols': [],\n",
       "  'urls': [],\n",
       "  'user_mentions': [{'id': 187289134,\n",
       "    'id_str': '187289134',\n",
       "    'indices': [3, 18],\n",
       "    'name': 'Clint Watts',\n",
       "    'screen_name': 'selectedwisdom'}]},\n",
       " 'favorite_count': 0,\n",
       " 'favorited': False,\n",
       " 'geo': None,\n",
       " 'id': 1067572409933287425,\n",
       " 'id_str': '1067572409933287425',\n",
       " 'in_reply_to_screen_name': None,\n",
       " 'in_reply_to_status_id': None,\n",
       " 'in_reply_to_status_id_str': None,\n",
       " 'in_reply_to_user_id': None,\n",
       " 'in_reply_to_user_id_str': None,\n",
       " 'is_quote_status': True,\n",
       " 'lang': 'en',\n",
       " 'metadata': {'iso_language_code': 'en', 'result_type': 'recent'},\n",
       " 'place': None,\n",
       " 'quoted_status_id': 1065624061055721473,\n",
       " 'quoted_status_id_str': '1065624061055721473',\n",
       " 'retweet_count': 3210,\n",
       " 'retweeted': False,\n",
       " 'retweeted_status': {'contributors': None,\n",
       "  'coordinates': None,\n",
       "  'created_at': 'Thu Nov 22 16:00:11 +0000 2018',\n",
       "  'entities': {'hashtags': [],\n",
       "   'symbols': [],\n",
       "   'urls': [{'display_url': 'twitter.com/i/web/status/1…',\n",
       "     'expanded_url': 'https://twitter.com/i/web/status/1065636066592473088',\n",
       "     'indices': [117, 140],\n",
       "     'url': 'https://t.co/Fs6AtwArbA'}],\n",
       "   'user_mentions': []},\n",
       "  'favorite_count': 12510,\n",
       "  'favorited': False,\n",
       "  'geo': None,\n",
       "  'id': 1065636066592473088,\n",
       "  'id_str': '1065636066592473088',\n",
       "  'in_reply_to_screen_name': None,\n",
       "  'in_reply_to_status_id': None,\n",
       "  'in_reply_to_status_id_str': None,\n",
       "  'in_reply_to_user_id': None,\n",
       "  'in_reply_to_user_id_str': None,\n",
       "  'is_quote_status': True,\n",
       "  'lang': 'en',\n",
       "  'metadata': {'iso_language_code': 'en', 'result_type': 'recent'},\n",
       "  'place': None,\n",
       "  'possibly_sensitive': False,\n",
       "  'quoted_status': {'contributors': None,\n",
       "   'coordinates': None,\n",
       "   'created_at': 'Thu Nov 22 15:12:29 +0000 2018',\n",
       "   'entities': {'hashtags': [],\n",
       "    'symbols': [],\n",
       "    'urls': [{'display_url': 'twitter.com/i/web/status/1…',\n",
       "      'expanded_url': 'https://twitter.com/i/web/status/1065624061055721473',\n",
       "      'indices': [117, 140],\n",
       "      'url': 'https://t.co/i5Y67rpCf5'}],\n",
       "    'user_mentions': []},\n",
       "   'favorite_count': 45098,\n",
       "   'favorited': False,\n",
       "   'geo': None,\n",
       "   'id': 1065624061055721473,\n",
       "   'id_str': '1065624061055721473',\n",
       "   'in_reply_to_screen_name': None,\n",
       "   'in_reply_to_status_id': None,\n",
       "   'in_reply_to_status_id_str': None,\n",
       "   'in_reply_to_user_id': None,\n",
       "   'in_reply_to_user_id_str': None,\n",
       "   'is_quote_status': False,\n",
       "   'lang': 'en',\n",
       "   'metadata': {'iso_language_code': 'en', 'result_type': 'recent'},\n",
       "   'place': None,\n",
       "   'possibly_sensitive': False,\n",
       "   'retweet_count': 14271,\n",
       "   'retweeted': False,\n",
       "   'source': '<a href=\"http://snappytv.com\" rel=\"nofollow\">SnappyTV.com</a>',\n",
       "   'text': 'Trump: “Steam is very reliable. Electromagnetic – unfortunately you have to be Albert Einstein to really work it pr… https://t.co/i5Y67rpCf5',\n",
       "   'truncated': True,\n",
       "   'user': {'contributors_enabled': False,\n",
       "    'created_at': 'Sun Sep 07 02:49:06 +0000 2008',\n",
       "    'default_profile': False,\n",
       "    'default_profile_image': False,\n",
       "    'description': \"Senior producer with @camanpour on @cnni. A nod's as good as a wink to a blind bat. Always open to a spicy taco. Views are my own, RT≠endorsement, duh.\",\n",
       "    'entities': {'description': {'urls': []},\n",
       "     'url': {'urls': [{'display_url': 'amanpour.com',\n",
       "        'expanded_url': 'http://amanpour.com',\n",
       "        'indices': [0, 23],\n",
       "        'url': 'https://t.co/BRbf0raeer'}]}},\n",
       "    'favourites_count': 170,\n",
       "    'follow_request_sent': None,\n",
       "    'followers_count': 6286,\n",
       "    'following': None,\n",
       "    'friends_count': 2240,\n",
       "    'geo_enabled': True,\n",
       "    'has_extended_profile': False,\n",
       "    'id': 16164856,\n",
       "    'id_str': '16164856',\n",
       "    'is_translation_enabled': False,\n",
       "    'is_translator': False,\n",
       "    'lang': 'en',\n",
       "    'listed_count': 134,\n",
       "    'location': 'London',\n",
       "    'name': 'Mick Krever',\n",
       "    'notifications': None,\n",
       "    'profile_background_color': '1DB9B9',\n",
       "    'profile_background_image_url': 'http://abs.twimg.com/images/themes/theme1/bg.png',\n",
       "    'profile_background_image_url_https': 'https://abs.twimg.com/images/themes/theme1/bg.png',\n",
       "    'profile_background_tile': False,\n",
       "    'profile_banner_url': 'https://pbs.twimg.com/profile_banners/16164856/1398279133',\n",
       "    'profile_image_url': 'http://pbs.twimg.com/profile_images/1016700208649048064/OzumGl-U_normal.jpg',\n",
       "    'profile_image_url_https': 'https://pbs.twimg.com/profile_images/1016700208649048064/OzumGl-U_normal.jpg',\n",
       "    'profile_link_color': '128A8A',\n",
       "    'profile_sidebar_border_color': '87BC44',\n",
       "    'profile_sidebar_fill_color': 'E0FF92',\n",
       "    'profile_text_color': '000000',\n",
       "    'profile_use_background_image': False,\n",
       "    'protected': False,\n",
       "    'screen_name': 'mickbk',\n",
       "    'statuses_count': 7267,\n",
       "    'time_zone': None,\n",
       "    'translator_type': 'regular',\n",
       "    'url': 'https://t.co/BRbf0raeer',\n",
       "    'utc_offset': None,\n",
       "    'verified': True}},\n",
       "  'quoted_status_id': 1065624061055721473,\n",
       "  'quoted_status_id_str': '1065624061055721473',\n",
       "  'retweet_count': 3210,\n",
       "  'retweeted': False,\n",
       "  'source': '<a href=\"http://twitter.com/download/iphone\" rel=\"nofollow\">Twitter for iPhone</a>',\n",
       "  'text': 'To the Navy Officer who set President Trump straight on this call - thank you! And I hope you have a Happy Thanksgi… https://t.co/Fs6AtwArbA',\n",
       "  'truncated': True,\n",
       "  'user': {'contributors_enabled': False,\n",
       "   'created_at': 'Sun Sep 05 20:24:59 +0000 2010',\n",
       "   'default_profile': False,\n",
       "   'default_profile_image': False,\n",
       "   'description': 'Author: Messing With The Enemy Current: @MSNBC @FPRI @gwcchs https://t.co/KO967ktZpQ',\n",
       "   'entities': {'description': {'urls': [{'display_url': 'amazon.com/dp/0062795988/…',\n",
       "       'expanded_url': 'https://www.amazon.com/dp/0062795988/ref=cm_sw_su_dp?tag=harpercollinsus-20',\n",
       "       'indices': [61, 84],\n",
       "       'url': 'https://t.co/KO967ktZpQ'}]},\n",
       "    'url': {'urls': [{'display_url': 'fpri.org/contributor/cl…',\n",
       "       'expanded_url': 'http://www.fpri.org/contributor/clint-watts/',\n",
       "       'indices': [0, 23],\n",
       "       'url': 'https://t.co/Bi3F0w3PfP'}]}},\n",
       "   'favourites_count': 5769,\n",
       "   'follow_request_sent': None,\n",
       "   'followers_count': 143953,\n",
       "   'following': None,\n",
       "   'friends_count': 823,\n",
       "   'geo_enabled': False,\n",
       "   'has_extended_profile': True,\n",
       "   'id': 187289134,\n",
       "   'id_str': '187289134',\n",
       "   'is_translation_enabled': False,\n",
       "   'is_translator': False,\n",
       "   'lang': 'en',\n",
       "   'listed_count': 1871,\n",
       "   'location': 'New York',\n",
       "   'name': 'Clint Watts',\n",
       "   'notifications': None,\n",
       "   'profile_background_color': '000000',\n",
       "   'profile_background_image_url': 'http://abs.twimg.com/images/themes/theme1/bg.png',\n",
       "   'profile_background_image_url_https': 'https://abs.twimg.com/images/themes/theme1/bg.png',\n",
       "   'profile_background_tile': False,\n",
       "   'profile_banner_url': 'https://pbs.twimg.com/profile_banners/187289134/1523101395',\n",
       "   'profile_image_url': 'http://pbs.twimg.com/profile_images/1001835150437691393/FpiXzksX_normal.jpg',\n",
       "   'profile_image_url_https': 'https://pbs.twimg.com/profile_images/1001835150437691393/FpiXzksX_normal.jpg',\n",
       "   'profile_link_color': '3B94D9',\n",
       "   'profile_sidebar_border_color': '000000',\n",
       "   'profile_sidebar_fill_color': '000000',\n",
       "   'profile_text_color': '000000',\n",
       "   'profile_use_background_image': False,\n",
       "   'protected': False,\n",
       "   'screen_name': 'selectedwisdom',\n",
       "   'statuses_count': 27366,\n",
       "   'time_zone': None,\n",
       "   'translator_type': 'none',\n",
       "   'url': 'https://t.co/Bi3F0w3PfP',\n",
       "   'utc_offset': None,\n",
       "   'verified': True}},\n",
       " 'source': '<a href=\"https://mobile.twitter.com\" rel=\"nofollow\">Twitter Lite</a>',\n",
       " 'text': 'RT @selectedwisdom: To the Navy Officer who set President Trump straight on this call - thank you! And I hope you have a Happy Thanksgiving…',\n",
       " 'truncated': False,\n",
       " 'user': {'contributors_enabled': False,\n",
       "  'created_at': 'Sun Jan 22 13:34:17 +0000 2012',\n",
       "  'default_profile': True,\n",
       "  'default_profile_image': False,\n",
       "  'description': 'Proud Father of 3, Green Party Member, Interests: environment, flying, ethical investing, travel, hiking, politics, humour',\n",
       "  'entities': {'description': {'urls': []}},\n",
       "  'favourites_count': 725,\n",
       "  'follow_request_sent': None,\n",
       "  'followers_count': 282,\n",
       "  'following': None,\n",
       "  'friends_count': 597,\n",
       "  'geo_enabled': False,\n",
       "  'has_extended_profile': False,\n",
       "  'id': 471078603,\n",
       "  'id_str': '471078603',\n",
       "  'is_translation_enabled': False,\n",
       "  'is_translator': False,\n",
       "  'lang': 'en',\n",
       "  'listed_count': 19,\n",
       "  'location': 'Mississauga, Canada',\n",
       "  'name': 'Mark Thorpe',\n",
       "  'notifications': None,\n",
       "  'profile_background_color': 'C0DEED',\n",
       "  'profile_background_image_url': 'http://abs.twimg.com/images/themes/theme1/bg.png',\n",
       "  'profile_background_image_url_https': 'https://abs.twimg.com/images/themes/theme1/bg.png',\n",
       "  'profile_background_tile': False,\n",
       "  'profile_image_url': 'http://pbs.twimg.com/profile_images/2206934531/sunset_normal.jpg',\n",
       "  'profile_image_url_https': 'https://pbs.twimg.com/profile_images/2206934531/sunset_normal.jpg',\n",
       "  'profile_link_color': '1DA1F2',\n",
       "  'profile_sidebar_border_color': 'C0DEED',\n",
       "  'profile_sidebar_fill_color': 'DDEEF6',\n",
       "  'profile_text_color': '333333',\n",
       "  'profile_use_background_image': True,\n",
       "  'protected': False,\n",
       "  'screen_name': 'msthorpe43',\n",
       "  'statuses_count': 7949,\n",
       "  'time_zone': None,\n",
       "  'translator_type': 'none',\n",
       "  'url': None,\n",
       "  'utc_offset': None,\n",
       "  'verified': False}}"
      ]
     },
     "execution_count": 5,
     "metadata": {},
     "output_type": "execute_result"
    }
   ],
   "source": [
    "print(len(test))\n",
    "test[0]"
   ]
  },
  {
   "cell_type": "markdown",
   "metadata": {},
   "source": [
    "# Check rate limit usage"
   ]
  },
  {
   "cell_type": "code",
   "execution_count": 28,
   "metadata": {},
   "outputs": [],
   "source": [
    "import requests\n",
    "from application_only_auth import Client\n",
    "client = Client(consumer_key, consumer_secret)"
   ]
  },
  {
   "cell_type": "code",
   "execution_count": 29,
   "metadata": {},
   "outputs": [],
   "source": [
    "response = client.request(\n",
    "    \"https://api.twitter.com/1.1/application/rate_limit_status.json?resources=help,users,search,statuses\")"
   ]
  },
  {
   "cell_type": "code",
   "execution_count": 30,
   "metadata": {},
   "outputs": [
    {
     "data": {
      "text/plain": [
       "{'rate_limit_context': {'application': 'rQL8q2gfgXYUNVutobvFaRbO4'},\n",
       " 'resources': {'help': {'/help/configuration': {'limit': 15,\n",
       "    'remaining': 15,\n",
       "    'reset': 1543800780},\n",
       "   '/help/languages': {'limit': 15, 'remaining': 15, 'reset': 1543800780},\n",
       "   '/help/privacy': {'limit': 15, 'remaining': 15, 'reset': 1543800780},\n",
       "   '/help/settings': {'limit': 15, 'remaining': 15, 'reset': 1543800780},\n",
       "   '/help/tos': {'limit': 15, 'remaining': 15, 'reset': 1543800780}},\n",
       "  'search': {'/search/tweets': {'limit': 450,\n",
       "    'remaining': 447,\n",
       "    'reset': 1543800663}},\n",
       "  'statuses': {'/statuses/lookup': {'limit': 300,\n",
       "    'remaining': 300,\n",
       "    'reset': 1543800780},\n",
       "   '/statuses/oembed': {'limit': 180, 'remaining': 180, 'reset': 1543800780},\n",
       "   '/statuses/retweeters/ids': {'limit': 300,\n",
       "    'remaining': 300,\n",
       "    'reset': 1543800780},\n",
       "   '/statuses/retweets/:id': {'limit': 300,\n",
       "    'remaining': 300,\n",
       "    'reset': 1543800780},\n",
       "   '/statuses/show/:id': {'limit': 900, 'remaining': 897, 'reset': 1543800557},\n",
       "   '/statuses/user_timeline': {'limit': 1500,\n",
       "    'remaining': 1500,\n",
       "    'reset': 1543800780}},\n",
       "  'users': {'/users/lookup': {'limit': 300,\n",
       "    'remaining': 300,\n",
       "    'reset': 1543800780},\n",
       "   '/users/profile_banner': {'limit': 180,\n",
       "    'remaining': 180,\n",
       "    'reset': 1543800780},\n",
       "   '/users/reverse_lookup': {'limit': 15,\n",
       "    'remaining': 15,\n",
       "    'reset': 1543800780},\n",
       "   '/users/show/:id': {'limit': 900, 'remaining': 900, 'reset': 1543800780},\n",
       "   '/users/suggestions': {'limit': 15, 'remaining': 15, 'reset': 1543800780},\n",
       "   '/users/suggestions/:slug': {'limit': 15,\n",
       "    'remaining': 15,\n",
       "    'reset': 1543800780},\n",
       "   '/users/suggestions/:slug/members': {'limit': 15,\n",
       "    'remaining': 15,\n",
       "    'reset': 1543800780}}}}"
      ]
     },
     "execution_count": 30,
     "metadata": {},
     "output_type": "execute_result"
    }
   ],
   "source": [
    "response"
   ]
  },
  {
   "cell_type": "code",
   "execution_count": null,
   "metadata": {},
   "outputs": [],
   "source": []
  }
 ],
 "metadata": {
  "kernelspec": {
   "display_name": "Python 3",
   "language": "python",
   "name": "python3"
  },
  "language_info": {
   "codemirror_mode": {
    "name": "ipython",
    "version": 3
   },
   "file_extension": ".py",
   "mimetype": "text/x-python",
   "name": "python",
   "nbconvert_exporter": "python",
   "pygments_lexer": "ipython3",
   "version": "3.6.4"
  }
 },
 "nbformat": 4,
 "nbformat_minor": 2
}
