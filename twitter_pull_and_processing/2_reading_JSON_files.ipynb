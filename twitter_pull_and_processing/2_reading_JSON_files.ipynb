{
 "cells": [
  {
   "cell_type": "markdown",
   "metadata": {},
   "source": [
    "# Processing Twitter data"
   ]
  },
  {
   "cell_type": "markdown",
   "metadata": {},
   "source": [
    "### A look at a single file"
   ]
  },
  {
   "cell_type": "markdown",
   "metadata": {},
   "source": [
    "First we load a single file with 4000 tweets into a dataframe to check for nested dictionaries"
   ]
  },
  {
   "cell_type": "code",
   "execution_count": 1,
   "metadata": {},
   "outputs": [],
   "source": [
    "import pandas as pd\n",
    "import numpy as np"
   ]
  },
  {
   "cell_type": "code",
   "execution_count": 2,
   "metadata": {},
   "outputs": [],
   "source": [
    "df = pd.read_json('tweets0.json')"
   ]
  },
  {
   "cell_type": "markdown",
   "metadata": {},
   "source": [
    "First we define features that will go straight into the dataframe without any unpacking requiered"
   ]
  },
  {
   "cell_type": "markdown",
   "metadata": {},
   "source": [
    "Sequentially unpack nested lists applying **pd.Series**"
   ]
  },
  {
   "cell_type": "code",
   "execution_count": 23,
   "metadata": {},
   "outputs": [
    {
     "name": "stderr",
     "output_type": "stream",
     "text": [
      "C:\\Users\\USUARIO\\Anaconda3\\lib\\site-packages\\pandas\\core\\indexes\\api.py:57: RuntimeWarning: '<' not supported between instances of 'int' and 'str', sort order is undefined for incomparable objects\n",
      "  union = _union_indexes(indexes)\n",
      "C:\\Users\\USUARIO\\Anaconda3\\lib\\site-packages\\pandas\\core\\indexes\\api.py:87: RuntimeWarning: '<' not supported between instances of 'int' and 'str', sort order is undefined for incomparable objects\n",
      "  result = result.union(other)\n",
      "C:\\Users\\USUARIO\\Anaconda3\\lib\\site-packages\\pandas\\core\\indexes\\api.py:87: RuntimeWarning: '<' not supported between instances of 'str' and 'int', sort order is undefined for incomparable objects\n",
      "  result = result.union(other)\n",
      "C:\\Users\\USUARIO\\Anaconda3\\lib\\site-packages\\pandas\\core\\indexes\\api.py:57: RuntimeWarning: '<' not supported between instances of 'str' and 'int', sort order is undefined for incomparable objects\n",
      "  union = _union_indexes(indexes)\n"
     ]
    },
    {
     "data": {
      "text/html": [
       "<div>\n",
       "<style scoped>\n",
       "    .dataframe tbody tr th:only-of-type {\n",
       "        vertical-align: middle;\n",
       "    }\n",
       "\n",
       "    .dataframe tbody tr th {\n",
       "        vertical-align: top;\n",
       "    }\n",
       "\n",
       "    .dataframe thead th {\n",
       "        text-align: right;\n",
       "    }\n",
       "</style>\n",
       "<table border=\"1\" class=\"dataframe\">\n",
       "  <thead>\n",
       "    <tr style=\"text-align: right;\">\n",
       "      <th></th>\n",
       "      <th>id</th>\n",
       "      <th>date</th>\n",
       "      <th>user</th>\n",
       "      <th>user_name</th>\n",
       "      <th>place</th>\n",
       "      <th>text</th>\n",
       "      <th>hashtags</th>\n",
       "      <th>mentions</th>\n",
       "      <th>favorite_count</th>\n",
       "      <th>retweet_count</th>\n",
       "      <th>retweet_user</th>\n",
       "      <th>retweet_user_name</th>\n",
       "      <th>quoted_user</th>\n",
       "      <th>quoted_user_name</th>\n",
       "      <th>reply_user_name</th>\n",
       "    </tr>\n",
       "  </thead>\n",
       "  <tbody>\n",
       "    <tr>\n",
       "      <th>0</th>\n",
       "      <td>1070441726400233472</td>\n",
       "      <td>2018-12-05 22:16:10</td>\n",
       "      <td>jaybay</td>\n",
       "      <td>yungjaybay</td>\n",
       "      <td>Knoxville, TN</td>\n",
       "      <td>RT @IWriteAllDay_: I read that Ariana Grande/ ...</td>\n",
       "      <td>[]</td>\n",
       "      <td>[{'screen_name': 'IWriteAllDay_', 'name': 'Cla...</td>\n",
       "      <td>0</td>\n",
       "      <td>1170</td>\n",
       "      <td>Clarkisha Kent</td>\n",
       "      <td>IWriteAllDay_</td>\n",
       "      <td>NaN</td>\n",
       "      <td>NaN</td>\n",
       "      <td>None</td>\n",
       "    </tr>\n",
       "    <tr>\n",
       "      <th>1</th>\n",
       "      <td>1070441605730054144</td>\n",
       "      <td>2018-12-05 22:15:41</td>\n",
       "      <td>Jessi Styles💕</td>\n",
       "      <td>JessicakeliCP</td>\n",
       "      <td>Rio de Janeiro, Brasil</td>\n",
       "      <td>RT @EsquadraoAriana: DOMINANDO TUDO!!\\nKim Kar...</td>\n",
       "      <td>[]</td>\n",
       "      <td>[{'screen_name': 'EsquadraoAriana', 'name': 'E...</td>\n",
       "      <td>0</td>\n",
       "      <td>62</td>\n",
       "      <td>Esquadrão Ariana 💋</td>\n",
       "      <td>EsquadraoAriana</td>\n",
       "      <td>NaN</td>\n",
       "      <td>NaN</td>\n",
       "      <td>None</td>\n",
       "    </tr>\n",
       "    <tr>\n",
       "      <th>2</th>\n",
       "      <td>1070441483554185217</td>\n",
       "      <td>2018-12-05 22:15:12</td>\n",
       "      <td>Rusty Goat</td>\n",
       "      <td>RustyGoat</td>\n",
       "      <td>Near Lubbock Texas</td>\n",
       "      <td>Ariana Grande showed off her new ink in a behi...</td>\n",
       "      <td>[]</td>\n",
       "      <td>[]</td>\n",
       "      <td>0</td>\n",
       "      <td>0</td>\n",
       "      <td>NaN</td>\n",
       "      <td>NaN</td>\n",
       "      <td>NaN</td>\n",
       "      <td>NaN</td>\n",
       "      <td>None</td>\n",
       "    </tr>\n",
       "    <tr>\n",
       "      <th>3</th>\n",
       "      <td>1070441286832922625</td>\n",
       "      <td>2018-12-05 22:14:25</td>\n",
       "      <td>Gabi #NBLAH</td>\n",
       "      <td>mcyrusdope</td>\n",
       "      <td>Belém, Brasil</td>\n",
       "      <td>RT @TheMusicManiacs: BEST New Music Video? 😍\\n...</td>\n",
       "      <td>[]</td>\n",
       "      <td>[{'screen_name': 'TheMusicManiacs', 'name': 'M...</td>\n",
       "      <td>0</td>\n",
       "      <td>33</td>\n",
       "      <td>Music Mania 🎶</td>\n",
       "      <td>TheMusicManiacs</td>\n",
       "      <td>NaN</td>\n",
       "      <td>NaN</td>\n",
       "      <td>None</td>\n",
       "    </tr>\n",
       "    <tr>\n",
       "      <th>4</th>\n",
       "      <td>1070441244965376000</td>\n",
       "      <td>2018-12-05 22:14:15</td>\n",
       "      <td>maria ortegon</td>\n",
       "      <td>mariaortegon12</td>\n",
       "      <td>Lytle, TX</td>\n",
       "      <td>RT @people: Ariana Grande Sent Pete Davidson '...</td>\n",
       "      <td>[]</td>\n",
       "      <td>[{'screen_name': 'people', 'name': 'People', '...</td>\n",
       "      <td>0</td>\n",
       "      <td>4</td>\n",
       "      <td>People</td>\n",
       "      <td>people</td>\n",
       "      <td>NaN</td>\n",
       "      <td>NaN</td>\n",
       "      <td>None</td>\n",
       "    </tr>\n",
       "  </tbody>\n",
       "</table>\n",
       "</div>"
      ],
      "text/plain": [
       "                    id                date           user       user_name  \\\n",
       "0  1070441726400233472 2018-12-05 22:16:10         jaybay      yungjaybay   \n",
       "1  1070441605730054144 2018-12-05 22:15:41  Jessi Styles💕   JessicakeliCP   \n",
       "2  1070441483554185217 2018-12-05 22:15:12     Rusty Goat       RustyGoat   \n",
       "3  1070441286832922625 2018-12-05 22:14:25    Gabi #NBLAH      mcyrusdope   \n",
       "4  1070441244965376000 2018-12-05 22:14:15  maria ortegon  mariaortegon12   \n",
       "\n",
       "                    place                                               text  \\\n",
       "0           Knoxville, TN  RT @IWriteAllDay_: I read that Ariana Grande/ ...   \n",
       "1  Rio de Janeiro, Brasil  RT @EsquadraoAriana: DOMINANDO TUDO!!\\nKim Kar...   \n",
       "2      Near Lubbock Texas  Ariana Grande showed off her new ink in a behi...   \n",
       "3           Belém, Brasil  RT @TheMusicManiacs: BEST New Music Video? 😍\\n...   \n",
       "4               Lytle, TX  RT @people: Ariana Grande Sent Pete Davidson '...   \n",
       "\n",
       "  hashtags                                           mentions  favorite_count  \\\n",
       "0       []  [{'screen_name': 'IWriteAllDay_', 'name': 'Cla...               0   \n",
       "1       []  [{'screen_name': 'EsquadraoAriana', 'name': 'E...               0   \n",
       "2       []                                                 []               0   \n",
       "3       []  [{'screen_name': 'TheMusicManiacs', 'name': 'M...               0   \n",
       "4       []  [{'screen_name': 'people', 'name': 'People', '...               0   \n",
       "\n",
       "   retweet_count        retweet_user retweet_user_name quoted_user  \\\n",
       "0           1170      Clarkisha Kent     IWriteAllDay_         NaN   \n",
       "1             62  Esquadrão Ariana 💋   EsquadraoAriana         NaN   \n",
       "2              0                 NaN               NaN         NaN   \n",
       "3             33       Music Mania 🎶   TheMusicManiacs         NaN   \n",
       "4              4              People            people         NaN   \n",
       "\n",
       "  quoted_user_name reply_user_name  \n",
       "0              NaN            None  \n",
       "1              NaN            None  \n",
       "2              NaN            None  \n",
       "3              NaN            None  \n",
       "4              NaN            None  "
      ]
     },
     "execution_count": 23,
     "metadata": {},
     "output_type": "execute_result"
    }
   ],
   "source": [
    "df_flat = pd.DataFrame()\n",
    "# id and date\n",
    "df_flat['id'] = df['id']\n",
    "df_flat['date'] = df['created_at']\n",
    "# user info\n",
    "user_info = df['user'].apply(pd.Series)\n",
    "df_flat['user'] = user_info.name\n",
    "df_flat['user_name'] = user_info.screen_name\n",
    "df_flat['place'] = user_info.location\n",
    "# tweet info\n",
    "df_flat['text'] = df['text']\n",
    "df_flat['hashtags'] = df['entities'].apply(pd.Series).hashtags\n",
    "df_flat['mentions'] = df['entities'].apply(pd.Series).user_mentions\n",
    "df_flat['favorite_count'] = df['favorite_count']\n",
    "df_flat['retweet_count'] = df['retweet_count']\n",
    "# retweet user info\n",
    "retweet_info = df['retweeted_status'].apply(pd.Series)\n",
    "df_flat['retweet_user'] = retweet_info.user.apply(pd.Series).name\n",
    "df_flat['retweet_user_name'] = retweet_info.user.apply(pd.Series).screen_name\n",
    "# quoted user info\n",
    "quoted_info = df['quoted_status'].apply(pd.Series)\n",
    "df_flat['quoted_user'] = quoted_info.user.apply(pd.Series).name\n",
    "df_flat['quoted_user_name'] = quoted_info.user.apply(pd.Series).screen_name\n",
    "# reply user info\n",
    "df_flat['reply_user_name'] = df['in_reply_to_screen_name']\n",
    "df_flat.head()"
   ]
  },
  {
   "cell_type": "code",
   "execution_count": 4,
   "metadata": {},
   "outputs": [],
   "source": [
    "df_flat.to_csv('flat_tweets.csv')"
   ]
  },
  {
   "cell_type": "markdown",
   "metadata": {},
   "source": [
    "### Looping through all files"
   ]
  },
  {
   "cell_type": "code",
   "execution_count": 3,
   "metadata": {},
   "outputs": [
    {
     "name": "stdout",
     "output_type": "stream",
     "text": [
      "['tweets0.json', 'tweets1.json', 'tweets10.json']\n"
     ]
    }
   ],
   "source": [
    "import os, json\n",
    "\n",
    "json_files = [pos_json for pos_json in os.listdir() if pos_json.endswith('.json')]\n",
    "print(json_files[:3])"
   ]
  },
  {
   "cell_type": "code",
   "execution_count": 4,
   "metadata": {},
   "outputs": [],
   "source": [
    "df = pd.DataFrame()\n",
    "\n",
    "for file in json_files:\n",
    "    data = pd.read_json(file)\n",
    "    df = df.append(data)"
   ]
  },
  {
   "cell_type": "code",
   "execution_count": 5,
   "metadata": {},
   "outputs": [
    {
     "data": {
      "text/plain": [
       "(265810, 31)"
      ]
     },
     "execution_count": 5,
     "metadata": {},
     "output_type": "execute_result"
    }
   ],
   "source": [
    "df.shape"
   ]
  },
  {
   "cell_type": "code",
   "execution_count": 6,
   "metadata": {},
   "outputs": [
    {
     "name": "stderr",
     "output_type": "stream",
     "text": [
      "C:\\Users\\USUARIO\\Anaconda3\\lib\\site-packages\\pandas\\core\\indexes\\api.py:57: RuntimeWarning: '<' not supported between instances of 'int' and 'str', sort order is undefined for incomparable objects\n",
      "  union = _union_indexes(indexes)\n",
      "C:\\Users\\USUARIO\\Anaconda3\\lib\\site-packages\\pandas\\core\\indexes\\api.py:87: RuntimeWarning: '<' not supported between instances of 'int' and 'str', sort order is undefined for incomparable objects\n",
      "  result = result.union(other)\n",
      "C:\\Users\\USUARIO\\Anaconda3\\lib\\site-packages\\pandas\\core\\indexes\\api.py:57: RuntimeWarning: '<' not supported between instances of 'str' and 'int', sort order is undefined for incomparable objects\n",
      "  union = _union_indexes(indexes)\n",
      "C:\\Users\\USUARIO\\Anaconda3\\lib\\site-packages\\pandas\\core\\indexes\\api.py:87: RuntimeWarning: '<' not supported between instances of 'str' and 'int', sort order is undefined for incomparable objects\n",
      "  result = result.union(other)\n"
     ]
    },
    {
     "data": {
      "text/html": [
       "<div>\n",
       "<style scoped>\n",
       "    .dataframe tbody tr th:only-of-type {\n",
       "        vertical-align: middle;\n",
       "    }\n",
       "\n",
       "    .dataframe tbody tr th {\n",
       "        vertical-align: top;\n",
       "    }\n",
       "\n",
       "    .dataframe thead th {\n",
       "        text-align: right;\n",
       "    }\n",
       "</style>\n",
       "<table border=\"1\" class=\"dataframe\">\n",
       "  <thead>\n",
       "    <tr style=\"text-align: right;\">\n",
       "      <th></th>\n",
       "      <th>id</th>\n",
       "      <th>date</th>\n",
       "      <th>user</th>\n",
       "      <th>user_name</th>\n",
       "      <th>place</th>\n",
       "      <th>text</th>\n",
       "      <th>hashtags</th>\n",
       "      <th>mentions</th>\n",
       "      <th>favorite_count</th>\n",
       "      <th>retweet_count</th>\n",
       "      <th>language</th>\n",
       "      <th>retweet_user</th>\n",
       "      <th>retweet_user_name</th>\n",
       "      <th>quoted_user</th>\n",
       "      <th>quoted_user_name</th>\n",
       "      <th>reply_user_name</th>\n",
       "    </tr>\n",
       "  </thead>\n",
       "  <tbody>\n",
       "    <tr>\n",
       "      <th>0</th>\n",
       "      <td>1070778907794792450</td>\n",
       "      <td>2018-12-06 20:36:00</td>\n",
       "      <td>Chris</td>\n",
       "      <td>happycamper712</td>\n",
       "      <td>Oklahoma, USA</td>\n",
       "      <td>RT @amyklobuchar: The people spoke in this ele...</td>\n",
       "      <td>[]</td>\n",
       "      <td>[{'screen_name': 'amyklobuchar', 'name': 'Amy ...</td>\n",
       "      <td>0</td>\n",
       "      <td>1645</td>\n",
       "      <td>en</td>\n",
       "      <td>Amy Klobuchar</td>\n",
       "      <td>amyklobuchar</td>\n",
       "      <td>NaN</td>\n",
       "      <td>NaN</td>\n",
       "      <td>None</td>\n",
       "    </tr>\n",
       "    <tr>\n",
       "      <th>1</th>\n",
       "      <td>1070778904640716800</td>\n",
       "      <td>2018-12-06 20:35:59</td>\n",
       "      <td>Apolline Déchamp</td>\n",
       "      <td>ApollineDchamp</td>\n",
       "      <td></td>\n",
       "      <td>RT @CanadaFP: Canada announces support for #el...</td>\n",
       "      <td>[{'text': 'elections', 'indices': [43, 53]}, {...</td>\n",
       "      <td>[{'screen_name': 'CanadaFP', 'name': 'Foreign ...</td>\n",
       "      <td>0</td>\n",
       "      <td>13</td>\n",
       "      <td>en</td>\n",
       "      <td>Foreign Policy CAN</td>\n",
       "      <td>CanadaFP</td>\n",
       "      <td>NaN</td>\n",
       "      <td>NaN</td>\n",
       "      <td>None</td>\n",
       "    </tr>\n",
       "    <tr>\n",
       "      <th>2</th>\n",
       "      <td>1070778903877312514</td>\n",
       "      <td>2018-12-06 20:35:59</td>\n",
       "      <td>Darren Douglas</td>\n",
       "      <td>DazDouglas</td>\n",
       "      <td>Tyne and Wear, UK</td>\n",
       "      <td>@theresa_may Pls pls pls be the prime minister...</td>\n",
       "      <td>[]</td>\n",
       "      <td>[{'screen_name': 'theresa_may', 'name': 'There...</td>\n",
       "      <td>0</td>\n",
       "      <td>0</td>\n",
       "      <td>en</td>\n",
       "      <td>NaN</td>\n",
       "      <td>NaN</td>\n",
       "      <td>NaN</td>\n",
       "      <td>NaN</td>\n",
       "      <td>theresa_may</td>\n",
       "    </tr>\n",
       "    <tr>\n",
       "      <th>3</th>\n",
       "      <td>1070778902929268736</td>\n",
       "      <td>2018-12-06 20:35:59</td>\n",
       "      <td>Damion Walls 🌊🌊</td>\n",
       "      <td>DanDautoplus</td>\n",
       "      <td></td>\n",
       "      <td>RT @JuddLegum: Leslie McCrae Dowless ran an ou...</td>\n",
       "      <td>[]</td>\n",
       "      <td>[{'screen_name': 'JuddLegum', 'name': 'Judd Le...</td>\n",
       "      <td>0</td>\n",
       "      <td>303</td>\n",
       "      <td>en</td>\n",
       "      <td>Judd Legum</td>\n",
       "      <td>JuddLegum</td>\n",
       "      <td>NaN</td>\n",
       "      <td>NaN</td>\n",
       "      <td>None</td>\n",
       "    </tr>\n",
       "    <tr>\n",
       "      <th>4</th>\n",
       "      <td>1070778901734088705</td>\n",
       "      <td>2018-12-06 20:35:58</td>\n",
       "      <td>Guilherme Tinoco</td>\n",
       "      <td>gtinocolh</td>\n",
       "      <td>BH e RJ</td>\n",
       "      <td>RT @_thalesnogueira: Ótimo artigo do Acemoglu ...</td>\n",
       "      <td>[]</td>\n",
       "      <td>[{'screen_name': '_thalesnogueira', 'name': 'T...</td>\n",
       "      <td>0</td>\n",
       "      <td>2</td>\n",
       "      <td>pt</td>\n",
       "      <td>Thales Nogueira</td>\n",
       "      <td>_thalesnogueira</td>\n",
       "      <td>NaN</td>\n",
       "      <td>NaN</td>\n",
       "      <td>None</td>\n",
       "    </tr>\n",
       "  </tbody>\n",
       "</table>\n",
       "</div>"
      ],
      "text/plain": [
       "                    id                date              user       user_name  \\\n",
       "0  1070778907794792450 2018-12-06 20:36:00             Chris  happycamper712   \n",
       "1  1070778904640716800 2018-12-06 20:35:59  Apolline Déchamp  ApollineDchamp   \n",
       "2  1070778903877312514 2018-12-06 20:35:59    Darren Douglas      DazDouglas   \n",
       "3  1070778902929268736 2018-12-06 20:35:59   Damion Walls 🌊🌊    DanDautoplus   \n",
       "4  1070778901734088705 2018-12-06 20:35:58  Guilherme Tinoco       gtinocolh   \n",
       "\n",
       "                place                                               text  \\\n",
       "0       Oklahoma, USA  RT @amyklobuchar: The people spoke in this ele...   \n",
       "1                      RT @CanadaFP: Canada announces support for #el...   \n",
       "2  Tyne and Wear, UK   @theresa_may Pls pls pls be the prime minister...   \n",
       "3                      RT @JuddLegum: Leslie McCrae Dowless ran an ou...   \n",
       "4             BH e RJ  RT @_thalesnogueira: Ótimo artigo do Acemoglu ...   \n",
       "\n",
       "                                            hashtags  \\\n",
       "0                                                 []   \n",
       "1  [{'text': 'elections', 'indices': [43, 53]}, {...   \n",
       "2                                                 []   \n",
       "3                                                 []   \n",
       "4                                                 []   \n",
       "\n",
       "                                            mentions  favorite_count  \\\n",
       "0  [{'screen_name': 'amyklobuchar', 'name': 'Amy ...               0   \n",
       "1  [{'screen_name': 'CanadaFP', 'name': 'Foreign ...               0   \n",
       "2  [{'screen_name': 'theresa_may', 'name': 'There...               0   \n",
       "3  [{'screen_name': 'JuddLegum', 'name': 'Judd Le...               0   \n",
       "4  [{'screen_name': '_thalesnogueira', 'name': 'T...               0   \n",
       "\n",
       "   retweet_count language        retweet_user retweet_user_name quoted_user  \\\n",
       "0           1645       en       Amy Klobuchar      amyklobuchar         NaN   \n",
       "1             13       en  Foreign Policy CAN          CanadaFP         NaN   \n",
       "2              0       en                 NaN               NaN         NaN   \n",
       "3            303       en          Judd Legum         JuddLegum         NaN   \n",
       "4              2       pt     Thales Nogueira   _thalesnogueira         NaN   \n",
       "\n",
       "  quoted_user_name reply_user_name  \n",
       "0              NaN            None  \n",
       "1              NaN            None  \n",
       "2              NaN     theresa_may  \n",
       "3              NaN            None  \n",
       "4              NaN            None  "
      ]
     },
     "execution_count": 6,
     "metadata": {},
     "output_type": "execute_result"
    }
   ],
   "source": [
    "df_flat = pd.DataFrame()\n",
    "# id and date\n",
    "df_flat['id'] = df['id']\n",
    "df_flat['date'] = df['created_at']\n",
    "# user info\n",
    "user_info = df['user'].apply(pd.Series)\n",
    "df_flat['user'] = user_info.name\n",
    "df_flat['user_name'] = user_info.screen_name\n",
    "df_flat['place'] = user_info.location\n",
    "# tweet info\n",
    "df_flat['text'] = df['text']\n",
    "df_flat['hashtags'] = df['entities'].apply(pd.Series).hashtags\n",
    "df_flat['mentions'] = df['entities'].apply(pd.Series).user_mentions\n",
    "df_flat['favorite_count'] = df['favorite_count']\n",
    "df_flat['retweet_count'] = df['retweet_count']\n",
    "df_flat['language'] = df['lang']\n",
    "# retweet user info\n",
    "retweet_info = df['retweeted_status'].apply(pd.Series)\n",
    "df_flat['retweet_user'] = retweet_info.user.apply(pd.Series).name\n",
    "df_flat['retweet_user_name'] = retweet_info.user.apply(pd.Series).screen_name\n",
    "# quoted user info\n",
    "quoted_info = df['quoted_status'].apply(pd.Series)\n",
    "df_flat['quoted_user'] = quoted_info.user.apply(pd.Series).name\n",
    "df_flat['quoted_user_name'] = quoted_info.user.apply(pd.Series).screen_name\n",
    "# reply user info\n",
    "df_flat['reply_user_name'] = df['in_reply_to_screen_name']\n",
    "df_flat.head()"
   ]
  },
  {
   "cell_type": "code",
   "execution_count": 7,
   "metadata": {},
   "outputs": [
    {
     "data": {
      "text/plain": [
       "Index(['id', 'date', 'user', 'user_name', 'place', 'text', 'hashtags',\n",
       "       'mentions', 'favorite_count', 'retweet_count', 'language',\n",
       "       'retweet_user', 'retweet_user_name', 'quoted_user', 'quoted_user_name',\n",
       "       'reply_user_name'],\n",
       "      dtype='object')"
      ]
     },
     "execution_count": 7,
     "metadata": {},
     "output_type": "execute_result"
    }
   ],
   "source": [
    "df_flat.columns"
   ]
  },
  {
   "cell_type": "code",
   "execution_count": 8,
   "metadata": {},
   "outputs": [],
   "source": [
    "df_flat.to_csv('all_tweets.csv')"
   ]
  },
  {
   "cell_type": "markdown",
   "metadata": {},
   "source": [
    "# Exploring the dataset"
   ]
  },
  {
   "cell_type": "code",
   "execution_count": 9,
   "metadata": {},
   "outputs": [
    {
     "data": {
      "text/plain": [
       "129361"
      ]
     },
     "execution_count": 9,
     "metadata": {},
     "output_type": "execute_result"
    }
   ],
   "source": [
    "# unique users\n",
    "len(df_flat.user.unique())"
   ]
  },
  {
   "cell_type": "code",
   "execution_count": 10,
   "metadata": {},
   "outputs": [],
   "source": [
    "aggregation = {\n",
    "    'retweet_count': 'sum',\n",
    "    'id': 'count'\n",
    "}"
   ]
  },
  {
   "cell_type": "markdown",
   "metadata": {},
   "source": [
    "A look at the users with the most retweets"
   ]
  },
  {
   "cell_type": "code",
   "execution_count": 11,
   "metadata": {},
   "outputs": [
    {
     "data": {
      "text/html": [
       "<div>\n",
       "<style scoped>\n",
       "    .dataframe tbody tr th:only-of-type {\n",
       "        vertical-align: middle;\n",
       "    }\n",
       "\n",
       "    .dataframe tbody tr th {\n",
       "        vertical-align: top;\n",
       "    }\n",
       "\n",
       "    .dataframe thead th {\n",
       "        text-align: right;\n",
       "    }\n",
       "</style>\n",
       "<table border=\"1\" class=\"dataframe\">\n",
       "  <thead>\n",
       "    <tr style=\"text-align: right;\">\n",
       "      <th></th>\n",
       "      <th>retweet_count</th>\n",
       "      <th>id</th>\n",
       "    </tr>\n",
       "    <tr>\n",
       "      <th>user_name</th>\n",
       "      <th></th>\n",
       "      <th></th>\n",
       "    </tr>\n",
       "  </thead>\n",
       "  <tbody>\n",
       "    <tr>\n",
       "      <th>AriBerman</th>\n",
       "      <td>14503</td>\n",
       "      <td>6</td>\n",
       "    </tr>\n",
       "    <tr>\n",
       "      <th>paulkrugman</th>\n",
       "      <td>8884</td>\n",
       "      <td>2</td>\n",
       "    </tr>\n",
       "    <tr>\n",
       "      <th>AdamSchiff</th>\n",
       "      <td>6872</td>\n",
       "      <td>1</td>\n",
       "    </tr>\n",
       "    <tr>\n",
       "      <th>nhannahjones</th>\n",
       "      <td>5134</td>\n",
       "      <td>3</td>\n",
       "    </tr>\n",
       "    <tr>\n",
       "      <th>davidaxelrod</th>\n",
       "      <td>4813</td>\n",
       "      <td>1</td>\n",
       "    </tr>\n",
       "  </tbody>\n",
       "</table>\n",
       "</div>"
      ],
      "text/plain": [
       "              retweet_count  id\n",
       "user_name                      \n",
       "AriBerman             14503   6\n",
       "paulkrugman            8884   2\n",
       "AdamSchiff             6872   1\n",
       "nhannahjones           5134   3\n",
       "davidaxelrod           4813   1"
      ]
     },
     "execution_count": 11,
     "metadata": {},
     "output_type": "execute_result"
    }
   ],
   "source": [
    "df_flat[df_flat.retweet_user.isna()].groupby(by = 'user_name').agg(aggregation).sort_values('retweet_count',ascending=False).head()"
   ]
  },
  {
   "cell_type": "markdown",
   "metadata": {},
   "source": [
    "A look at the users that retweeted the most"
   ]
  },
  {
   "cell_type": "code",
   "execution_count": 12,
   "metadata": {},
   "outputs": [
    {
     "name": "stdout",
     "output_type": "stream",
     "text": [
      "2018-12-05 06:36:02\n",
      "2018-12-06 20:36:00\n"
     ]
    }
   ],
   "source": [
    "print(min(df_flat.date))\n",
    "print(max(df_flat.date))"
   ]
  },
  {
   "cell_type": "code",
   "execution_count": 13,
   "metadata": {},
   "outputs": [
    {
     "data": {
      "text/html": [
       "<div>\n",
       "<style scoped>\n",
       "    .dataframe tbody tr th:only-of-type {\n",
       "        vertical-align: middle;\n",
       "    }\n",
       "\n",
       "    .dataframe tbody tr th {\n",
       "        vertical-align: top;\n",
       "    }\n",
       "\n",
       "    .dataframe thead th {\n",
       "        text-align: right;\n",
       "    }\n",
       "</style>\n",
       "<table border=\"1\" class=\"dataframe\">\n",
       "  <thead>\n",
       "    <tr style=\"text-align: right;\">\n",
       "      <th></th>\n",
       "      <th>id</th>\n",
       "    </tr>\n",
       "    <tr>\n",
       "      <th>user_name</th>\n",
       "      <th></th>\n",
       "    </tr>\n",
       "  </thead>\n",
       "  <tbody>\n",
       "    <tr>\n",
       "      <th>TOKYO_DEMOCRACY</th>\n",
       "      <td>320</td>\n",
       "    </tr>\n",
       "    <tr>\n",
       "      <th>Vox_Democracy</th>\n",
       "      <td>226</td>\n",
       "    </tr>\n",
       "    <tr>\n",
       "      <th>Sajawal70014704</th>\n",
       "      <td>225</td>\n",
       "    </tr>\n",
       "    <tr>\n",
       "      <th>const_democracy</th>\n",
       "      <td>214</td>\n",
       "    </tr>\n",
       "    <tr>\n",
       "      <th>aqeelgazianiri1</th>\n",
       "      <td>183</td>\n",
       "    </tr>\n",
       "  </tbody>\n",
       "</table>\n",
       "</div>"
      ],
      "text/plain": [
       "                  id\n",
       "user_name           \n",
       "TOKYO_DEMOCRACY  320\n",
       "Vox_Democracy    226\n",
       "Sajawal70014704  225\n",
       "const_democracy  214\n",
       "aqeelgazianiri1  183"
      ]
     },
     "execution_count": 13,
     "metadata": {},
     "output_type": "execute_result"
    }
   ],
   "source": [
    "df_flat[df_flat.retweet_user.notna()].groupby(by = 'user_name').agg({'id':'count'}).sort_values('id',ascending=False).head()"
   ]
  },
  {
   "cell_type": "code",
   "execution_count": null,
   "metadata": {},
   "outputs": [],
   "source": []
  }
 ],
 "metadata": {
  "kernelspec": {
   "display_name": "Python 3",
   "language": "python",
   "name": "python3"
  },
  "language_info": {
   "codemirror_mode": {
    "name": "ipython",
    "version": 3
   },
   "file_extension": ".py",
   "mimetype": "text/x-python",
   "name": "python",
   "nbconvert_exporter": "python",
   "pygments_lexer": "ipython3",
   "version": "3.6.4"
  }
 },
 "nbformat": 4,
 "nbformat_minor": 2
}
