{
 "cells": [
  {
   "cell_type": "code",
   "execution_count": 1,
   "metadata": {},
   "outputs": [],
   "source": [
    "import pandas as pd\n",
    "import networkx as nx\n",
    "import re\n",
    "import community\n",
    "import matplotlib.pyplot as plt\n",
    "from operator import itemgetter"
   ]
  },
  {
   "cell_type": "markdown",
   "metadata": {},
   "source": [
    "# Information spread"
   ]
  },
  {
   "cell_type": "code",
   "execution_count": 618,
   "metadata": {},
   "outputs": [
    {
     "name": "stderr",
     "output_type": "stream",
     "text": [
      "C:\\Users\\USUARIO\\Anaconda3\\lib\\site-packages\\IPython\\core\\interactiveshell.py:2728: DtypeWarning: Columns (0,1) have mixed types. Specify dtype option on import or set low_memory=False.\n",
      "  interactivity=interactivity, compiler=compiler, result=result)\n"
     ]
    }
   ],
   "source": [
    "df = pd.read_csv('all_tweets.csv',sep=',')\n",
    "df = df[df.date != '[]']\n",
    "df = df[df.text.notna()]"
   ]
  },
  {
   "cell_type": "markdown",
   "metadata": {},
   "source": [
    "### Plot a quick histogram of  the tweets"
   ]
  },
  {
   "cell_type": "code",
   "execution_count": 619,
   "metadata": {},
   "outputs": [
    {
     "name": "stdout",
     "output_type": "stream",
     "text": [
      "2018-12-10 05:56:34\n",
      "2018-12-11 04:25:32\n"
     ]
    },
    {
     "data": {
      "text/html": [
       "<div>\n",
       "<style scoped>\n",
       "    .dataframe tbody tr th:only-of-type {\n",
       "        vertical-align: middle;\n",
       "    }\n",
       "\n",
       "    .dataframe tbody tr th {\n",
       "        vertical-align: top;\n",
       "    }\n",
       "\n",
       "    .dataframe thead th {\n",
       "        text-align: right;\n",
       "    }\n",
       "</style>\n",
       "<table border=\"1\" class=\"dataframe\">\n",
       "  <thead>\n",
       "    <tr style=\"text-align: right;\">\n",
       "      <th></th>\n",
       "      <th>id</th>\n",
       "    </tr>\n",
       "    <tr>\n",
       "      <th>date_day</th>\n",
       "      <th></th>\n",
       "    </tr>\n",
       "  </thead>\n",
       "  <tbody>\n",
       "    <tr>\n",
       "      <th>2018-12-10 06:00:00</th>\n",
       "      <td>2973</td>\n",
       "    </tr>\n",
       "    <tr>\n",
       "      <th>2018-12-10 07:00:00</th>\n",
       "      <td>5110</td>\n",
       "    </tr>\n",
       "    <tr>\n",
       "      <th>2018-12-10 08:00:00</th>\n",
       "      <td>5875</td>\n",
       "    </tr>\n",
       "    <tr>\n",
       "      <th>2018-12-10 09:00:00</th>\n",
       "      <td>5430</td>\n",
       "    </tr>\n",
       "    <tr>\n",
       "      <th>2018-12-10 10:00:00</th>\n",
       "      <td>5665</td>\n",
       "    </tr>\n",
       "  </tbody>\n",
       "</table>\n",
       "</div>"
      ],
      "text/plain": [
       "                       id\n",
       "date_day                 \n",
       "2018-12-10 06:00:00  2973\n",
       "2018-12-10 07:00:00  5110\n",
       "2018-12-10 08:00:00  5875\n",
       "2018-12-10 09:00:00  5430\n",
       "2018-12-10 10:00:00  5665"
      ]
     },
     "execution_count": 619,
     "metadata": {},
     "output_type": "execute_result"
    }
   ],
   "source": [
    "df['date_day'] = pd.to_datetime(df['date']).dt.round('H')\n",
    "df_date = df.groupby('date_day').agg({'id':'count'})\n",
    "print(min(df.date))\n",
    "print(max(df.date))\n",
    "df_date.head()"
   ]
  },
  {
   "cell_type": "code",
   "execution_count": 620,
   "metadata": {},
   "outputs": [
    {
     "data": {
      "text/html": [
       "<div>\n",
       "<style scoped>\n",
       "    .dataframe tbody tr th:only-of-type {\n",
       "        vertical-align: middle;\n",
       "    }\n",
       "\n",
       "    .dataframe tbody tr th {\n",
       "        vertical-align: top;\n",
       "    }\n",
       "\n",
       "    .dataframe thead th {\n",
       "        text-align: right;\n",
       "    }\n",
       "</style>\n",
       "<table border=\"1\" class=\"dataframe\">\n",
       "  <thead>\n",
       "    <tr style=\"text-align: right;\">\n",
       "      <th></th>\n",
       "      <th>id</th>\n",
       "    </tr>\n",
       "  </thead>\n",
       "  <tbody>\n",
       "    <tr>\n",
       "      <th>count</th>\n",
       "      <td>23.000000</td>\n",
       "    </tr>\n",
       "    <tr>\n",
       "      <th>mean</th>\n",
       "      <td>7599.086957</td>\n",
       "    </tr>\n",
       "    <tr>\n",
       "      <th>std</th>\n",
       "      <td>2016.181087</td>\n",
       "    </tr>\n",
       "    <tr>\n",
       "      <th>min</th>\n",
       "      <td>2973.000000</td>\n",
       "    </tr>\n",
       "    <tr>\n",
       "      <th>25%</th>\n",
       "      <td>6116.000000</td>\n",
       "    </tr>\n",
       "    <tr>\n",
       "      <th>50%</th>\n",
       "      <td>7715.000000</td>\n",
       "    </tr>\n",
       "    <tr>\n",
       "      <th>75%</th>\n",
       "      <td>9442.000000</td>\n",
       "    </tr>\n",
       "    <tr>\n",
       "      <th>max</th>\n",
       "      <td>11029.000000</td>\n",
       "    </tr>\n",
       "  </tbody>\n",
       "</table>\n",
       "</div>"
      ],
      "text/plain": [
       "                 id\n",
       "count     23.000000\n",
       "mean    7599.086957\n",
       "std     2016.181087\n",
       "min     2973.000000\n",
       "25%     6116.000000\n",
       "50%     7715.000000\n",
       "75%     9442.000000\n",
       "max    11029.000000"
      ]
     },
     "execution_count": 620,
     "metadata": {},
     "output_type": "execute_result"
    }
   ],
   "source": [
    "df_date.describe()"
   ]
  },
  {
   "cell_type": "code",
   "execution_count": 621,
   "metadata": {},
   "outputs": [
    {
     "data": {
      "text/plain": [
       "<matplotlib.axes._subplots.AxesSubplot at 0x1f767708a58>"
      ]
     },
     "execution_count": 621,
     "metadata": {},
     "output_type": "execute_result"
    },
    {
     "data": {
      "image/png": "[encoded data removed]",
      "text/plain": [
       "<Figure size 432x288 with 1 Axes>"
      ]
     },
     "metadata": {
      "needs_background": "light"
     },
     "output_type": "display_data"
    }
   ],
   "source": [
    "df_date.plot(kind='line')"
   ]
  },
  {
   "cell_type": "code",
   "execution_count": 622,
   "metadata": {},
   "outputs": [
    {
     "data": {
      "text/plain": [
       "<matplotlib.axes._subplots.AxesSubplot at 0x1f73aa6f2e8>"
      ]
     },
     "execution_count": 622,
     "metadata": {},
     "output_type": "execute_result"
    },
    {
     "data": {
      "image/png": "[encoded data removed]",
      "text/plain": [
       "<Figure size 432x288 with 1 Axes>"
      ]
     },
     "metadata": {
      "needs_background": "light"
     },
     "output_type": "display_data"
    }
   ],
   "source": [
    "df_date.plot.hist(bins=30)"
   ]
  },
  {
   "cell_type": "code",
   "execution_count": 623,
   "metadata": {},
   "outputs": [
    {
     "data": {
      "image/png": "[encoded data removed]",
      "text/plain": [
       "<Figure size 432x288 with 1 Axes>"
      ]
     },
     "metadata": {
      "needs_background": "light"
     },
     "output_type": "display_data"
    }
   ],
   "source": [
    "import numpy as np \n",
    "import pylab \n",
    "import scipy.stats as stats\n",
    "\n",
    "stats.probplot(df_date.id, dist=stats.expon, plot=pylab)\n",
    "pylab.show()"
   ]
  },
  {
   "cell_type": "markdown",
   "metadata": {},
   "source": [
    "## Running the for loop on the news headlines"
   ]
  },
  {
   "cell_type": "markdown",
   "metadata": {},
   "source": [
    "Load the data"
   ]
  },
  {
   "cell_type": "code",
   "execution_count": 624,
   "metadata": {},
   "outputs": [
    {
     "name": "stderr",
     "output_type": "stream",
     "text": [
      "C:\\Users\\USUARIO\\Anaconda3\\lib\\site-packages\\IPython\\core\\interactiveshell.py:2728: DtypeWarning: Columns (0,1) have mixed types. Specify dtype option on import or set low_memory=False.\n",
      "  interactivity=interactivity, compiler=compiler, result=result)\n"
     ]
    },
    {
     "name": "stdout",
     "output_type": "stream",
     "text": [
      "(174779, 18)\n",
      "2018-12-10 06:00:00\n",
      "2018-12-11 04:00:00\n"
     ]
    },
    {
     "data": {
      "text/html": [
       "<div>\n",
       "<style scoped>\n",
       "    .dataframe tbody tr th:only-of-type {\n",
       "        vertical-align: middle;\n",
       "    }\n",
       "\n",
       "    .dataframe tbody tr th {\n",
       "        vertical-align: top;\n",
       "    }\n",
       "\n",
       "    .dataframe thead th {\n",
       "        text-align: right;\n",
       "    }\n",
       "</style>\n",
       "<table border=\"1\" class=\"dataframe\">\n",
       "  <thead>\n",
       "    <tr style=\"text-align: right;\">\n",
       "      <th></th>\n",
       "      <th>Unnamed: 0</th>\n",
       "      <th>id</th>\n",
       "      <th>date</th>\n",
       "      <th>user</th>\n",
       "      <th>user_name</th>\n",
       "      <th>place</th>\n",
       "      <th>text</th>\n",
       "      <th>hashtags</th>\n",
       "      <th>mentions</th>\n",
       "      <th>favorite_count</th>\n",
       "      <th>retweet_count</th>\n",
       "      <th>language</th>\n",
       "      <th>retweet_user</th>\n",
       "      <th>retweet_user_name</th>\n",
       "      <th>quoted_user</th>\n",
       "      <th>quoted_user_name</th>\n",
       "      <th>reply_user_name</th>\n",
       "      <th>date_hour</th>\n",
       "    </tr>\n",
       "  </thead>\n",
       "  <tbody>\n",
       "    <tr>\n",
       "      <th>0</th>\n",
       "      <td>0</td>\n",
       "      <td>1072346621613092864</td>\n",
       "      <td>2018-12-11 04:25:32</td>\n",
       "      <td>Jack Phillips</td>\n",
       "      <td>JackPhi93877782</td>\n",
       "      <td>NaN</td>\n",
       "      <td>@StarnesDouglas @AmericanStNick @realDonaldTru...</td>\n",
       "      <td>[]</td>\n",
       "      <td>[{'screen_name': 'StarnesDouglas', 'name': 'Do...</td>\n",
       "      <td>0.0</td>\n",
       "      <td>0.0</td>\n",
       "      <td>en</td>\n",
       "      <td>NaN</td>\n",
       "      <td>NaN</td>\n",
       "      <td>NaN</td>\n",
       "      <td>NaN</td>\n",
       "      <td>StarnesDouglas</td>\n",
       "      <td>2018-12-11 04:00:00</td>\n",
       "    </tr>\n",
       "    <tr>\n",
       "      <th>1</th>\n",
       "      <td>1</td>\n",
       "      <td>1072346618228297728</td>\n",
       "      <td>2018-12-11 04:25:31</td>\n",
       "      <td>Jonathan will do.</td>\n",
       "      <td>destructicle</td>\n",
       "      <td>manitoba, Canada</td>\n",
       "      <td>RT @AureliaCotta: NBA and NFL cheerleaders hav...</td>\n",
       "      <td>[]</td>\n",
       "      <td>[{'screen_name': 'AureliaCotta', 'name': 'Aure...</td>\n",
       "      <td>0.0</td>\n",
       "      <td>1.0</td>\n",
       "      <td>en</td>\n",
       "      <td>Aurelia Cotta</td>\n",
       "      <td>AureliaCotta</td>\n",
       "      <td>NaN</td>\n",
       "      <td>NaN</td>\n",
       "      <td>NaN</td>\n",
       "      <td>2018-12-11 04:00:00</td>\n",
       "    </tr>\n",
       "    <tr>\n",
       "      <th>2</th>\n",
       "      <td>2</td>\n",
       "      <td>1072346615615246337</td>\n",
       "      <td>2018-12-11 04:25:31</td>\n",
       "      <td>Catherine Ann🇺🇸🙏🌹</td>\n",
       "      <td>catherinevandeh</td>\n",
       "      <td>NaN</td>\n",
       "      <td>RT @RodStryker: 8:45 - TV news crew from ABC s...</td>\n",
       "      <td>[]</td>\n",
       "      <td>[{'screen_name': 'RodStryker', 'name': 'Maveri...</td>\n",
       "      <td>0.0</td>\n",
       "      <td>13.0</td>\n",
       "      <td>en</td>\n",
       "      <td>Maverick</td>\n",
       "      <td>RodStryker</td>\n",
       "      <td>NaN</td>\n",
       "      <td>NaN</td>\n",
       "      <td>NaN</td>\n",
       "      <td>2018-12-11 04:00:00</td>\n",
       "    </tr>\n",
       "    <tr>\n",
       "      <th>3</th>\n",
       "      <td>3</td>\n",
       "      <td>1072346615191613441</td>\n",
       "      <td>2018-12-11 04:25:30</td>\n",
       "      <td>Lionel Zschech</td>\n",
       "      <td>LZschech</td>\n",
       "      <td>Adelaide, South Australia</td>\n",
       "      <td>RT @AuConservatives: \"A lot of public commenta...</td>\n",
       "      <td>[]</td>\n",
       "      <td>[{'screen_name': 'AuConservatives', 'name': 'A...</td>\n",
       "      <td>0.0</td>\n",
       "      <td>3.0</td>\n",
       "      <td>en</td>\n",
       "      <td>Aust Conservatives</td>\n",
       "      <td>AuConservatives</td>\n",
       "      <td>NaN</td>\n",
       "      <td>NaN</td>\n",
       "      <td>NaN</td>\n",
       "      <td>2018-12-11 04:00:00</td>\n",
       "    </tr>\n",
       "    <tr>\n",
       "      <th>4</th>\n",
       "      <td>4</td>\n",
       "      <td>1072346614562480130</td>\n",
       "      <td>2018-12-11 04:25:30</td>\n",
       "      <td>Skyhook</td>\n",
       "      <td>notorious_CDS</td>\n",
       "      <td>Nunavut, Canada</td>\n",
       "      <td>RT @UndercoverGH: My eternal woke soulmate @Ti...</td>\n",
       "      <td>[]</td>\n",
       "      <td>[{'screen_name': 'UndercoverGH', 'name': 'Garb...</td>\n",
       "      <td>0.0</td>\n",
       "      <td>16.0</td>\n",
       "      <td>en</td>\n",
       "      <td>Garbage Human 🗑</td>\n",
       "      <td>UndercoverGH</td>\n",
       "      <td>NaN</td>\n",
       "      <td>NaN</td>\n",
       "      <td>NaN</td>\n",
       "      <td>2018-12-11 04:00:00</td>\n",
       "    </tr>\n",
       "  </tbody>\n",
       "</table>\n",
       "</div>"
      ],
      "text/plain": [
       "  Unnamed: 0                   id                 date               user  \\\n",
       "0          0  1072346621613092864  2018-12-11 04:25:32      Jack Phillips   \n",
       "1          1  1072346618228297728  2018-12-11 04:25:31  Jonathan will do.   \n",
       "2          2  1072346615615246337  2018-12-11 04:25:31  Catherine Ann🇺🇸🙏🌹   \n",
       "3          3  1072346615191613441  2018-12-11 04:25:30     Lionel Zschech   \n",
       "4          4  1072346614562480130  2018-12-11 04:25:30            Skyhook   \n",
       "\n",
       "         user_name                      place  \\\n",
       "0  JackPhi93877782                        NaN   \n",
       "1     destructicle           manitoba, Canada   \n",
       "2  catherinevandeh                        NaN   \n",
       "3         LZschech  Adelaide, South Australia   \n",
       "4    notorious_CDS            Nunavut, Canada   \n",
       "\n",
       "                                                text hashtags  \\\n",
       "0  @StarnesDouglas @AmericanStNick @realDonaldTru...       []   \n",
       "1  RT @AureliaCotta: NBA and NFL cheerleaders hav...       []   \n",
       "2  RT @RodStryker: 8:45 - TV news crew from ABC s...       []   \n",
       "3  RT @AuConservatives: \"A lot of public commenta...       []   \n",
       "4  RT @UndercoverGH: My eternal woke soulmate @Ti...       []   \n",
       "\n",
       "                                            mentions  favorite_count  \\\n",
       "0  [{'screen_name': 'StarnesDouglas', 'name': 'Do...             0.0   \n",
       "1  [{'screen_name': 'AureliaCotta', 'name': 'Aure...             0.0   \n",
       "2  [{'screen_name': 'RodStryker', 'name': 'Maveri...             0.0   \n",
       "3  [{'screen_name': 'AuConservatives', 'name': 'A...             0.0   \n",
       "4  [{'screen_name': 'UndercoverGH', 'name': 'Garb...             0.0   \n",
       "\n",
       "   retweet_count language        retweet_user retweet_user_name quoted_user  \\\n",
       "0            0.0       en                 NaN               NaN         NaN   \n",
       "1            1.0       en       Aurelia Cotta      AureliaCotta         NaN   \n",
       "2           13.0       en            Maverick        RodStryker         NaN   \n",
       "3            3.0       en  Aust Conservatives   AuConservatives         NaN   \n",
       "4           16.0       en     Garbage Human 🗑      UndercoverGH         NaN   \n",
       "\n",
       "  quoted_user_name reply_user_name           date_hour  \n",
       "0              NaN  StarnesDouglas 2018-12-11 04:00:00  \n",
       "1              NaN             NaN 2018-12-11 04:00:00  \n",
       "2              NaN             NaN 2018-12-11 04:00:00  \n",
       "3              NaN             NaN 2018-12-11 04:00:00  \n",
       "4              NaN             NaN 2018-12-11 04:00:00  "
      ]
     },
     "execution_count": 624,
     "metadata": {},
     "output_type": "execute_result"
    }
   ],
   "source": [
    "df = pd.read_csv('all_tweets.csv',sep=',')\n",
    "# df = pd.concat([df,pd.read_csv('./tweet_data/CSVs/all_tweets_trump_investigation.csv',sep=',')])\n",
    "\n",
    "df = df[df.date != '[]']\n",
    "df = df[df.text.notna()]\n",
    "# df = df[df.language == 'en']\n",
    "df['date_hour'] = pd.to_datetime(df['date']).dt.round('H')\n",
    "df['text'] = df.text.apply(lambda x: str(x))\n",
    "print(df.shape)\n",
    "print(min(df.date_hour))\n",
    "print(max(df.date_hour))\n",
    "df.head()"
   ]
  },
  {
   "cell_type": "markdown",
   "metadata": {},
   "source": [
    "#### Defining the list of headlines\n",
    "**Choose only one of the following** -----------------------------------------"
   ]
  },
  {
   "cell_type": "code",
   "execution_count": null,
   "metadata": {},
   "outputs": [],
   "source": [
    "news_headlines = [['macron', 'yellow vest','yellowvest','protests','police', 'paris'],\n",
    "                  ['michael cohen','cohen'],\n",
    "                  ['mueller','investigation','trump','campaign','russia','putin','impeachment'],\n",
    "                  ['facebook','data','email','user','emails','documents','confidential'],\n",
    "                  ['brexit'],\n",
    "                  ['democracy'],\n",
    "                  ['family','separation'],\n",
    "                  ['globalwarming','global warming','climatechange','climate change'],\n",
    "                  ['data','policy','privacy','protection','law','online','right','rights'],\n",
    "                  ['lamandre','campaign funds','child care','pay']]"
   ]
  },
  {
   "cell_type": "code",
   "execution_count": 567,
   "metadata": {},
   "outputs": [],
   "source": [
    "news_headlines = [['macron', 'yellow vest','yellowvest','protests','police','paris']]"
   ]
  },
  {
   "cell_type": "code",
   "execution_count": 528,
   "metadata": {},
   "outputs": [],
   "source": [
    "news_headlines = [['michael cohen','cohen'],\n",
    "                  ['facebook','data','email','user','emails','documents','confidential'],\n",
    "                  ['brexit']]"
   ]
  },
  {
   "cell_type": "code",
   "execution_count": 517,
   "metadata": {},
   "outputs": [],
   "source": [
    "news_headlines = [['democracy']]"
   ]
  },
  {
   "cell_type": "code",
   "execution_count": 538,
   "metadata": {},
   "outputs": [],
   "source": [
    "news_headlines = [['family','separation']]"
   ]
  },
  {
   "cell_type": "code",
   "execution_count": 481,
   "metadata": {},
   "outputs": [],
   "source": [
    "news_headlines = [['mueller','investigation','trump','campaign','russia','putin','impeachment'],\n",
    "                  ['globalwarming','global warming','climatechange','climate change'],\n",
    "                  ['data','policy','privacy','protection','law','online','right','rights'],\n",
    "                  ['lamandre','campaign funds','child care','pay']]\n"
   ]
  },
  {
   "cell_type": "code",
   "execution_count": 551,
   "metadata": {},
   "outputs": [],
   "source": [
    "news_headlines = [['universal','basic','income'],\n",
    "                  ['pay','wage','equal','gap','gender','equality','paygap']]"
   ]
  },
  {
   "cell_type": "code",
   "execution_count": 559,
   "metadata": {},
   "outputs": [],
   "source": [
    "news_headlines = [['student loan','student debt','student aid']]"
   ]
  },
  {
   "cell_type": "code",
   "execution_count": 608,
   "metadata": {},
   "outputs": [],
   "source": [
    "news_headlines = [['lgbtq','gay','bisexual','lesbian','trans',\n",
    "                   'transgender','bi','gender fluid','same sex marriage']]"
   ]
  },
  {
   "cell_type": "code",
   "execution_count": 632,
   "metadata": {},
   "outputs": [],
   "source": [
    "news_headlines = [['racism','racist','race','discrimination','blacklivesmatter','alllivesmatter','whiteprivilege','white supremacy']]"
   ]
  },
  {
   "cell_type": "markdown",
   "metadata": {},
   "source": [
    "**news headlines selected** -----------------------------------------"
   ]
  },
  {
   "cell_type": "code",
   "execution_count": 633,
   "metadata": {},
   "outputs": [
    {
     "data": {
      "text/html": [
       "<div>\n",
       "<style scoped>\n",
       "    .dataframe tbody tr th:only-of-type {\n",
       "        vertical-align: middle;\n",
       "    }\n",
       "\n",
       "    .dataframe tbody tr th {\n",
       "        vertical-align: top;\n",
       "    }\n",
       "\n",
       "    .dataframe thead th {\n",
       "        text-align: right;\n",
       "    }\n",
       "</style>\n",
       "<table border=\"1\" class=\"dataframe\">\n",
       "  <thead>\n",
       "    <tr style=\"text-align: right;\">\n",
       "      <th></th>\n",
       "      <th>headline</th>\n",
       "    </tr>\n",
       "  </thead>\n",
       "  <tbody>\n",
       "    <tr>\n",
       "      <th>0</th>\n",
       "      <td>[racism, racist, race, discrimination, blackli...</td>\n",
       "    </tr>\n",
       "  </tbody>\n",
       "</table>\n",
       "</div>"
      ],
      "text/plain": [
       "                                            headline\n",
       "0  [racism, racist, race, discrimination, blackli..."
      ]
     },
     "execution_count": 633,
     "metadata": {},
     "output_type": "execute_result"
    }
   ],
   "source": [
    "df_headlines = pd.DataFrame()\n",
    "df_headlines['headline'] = news_headlines\n",
    "df_headlines"
   ]
  },
  {
   "cell_type": "markdown",
   "metadata": {},
   "source": [
    "## Run the for loop for each headline\n",
    "Here we subset the dataframe by headline and calculate and extract relevant network metrics\n",
    "This will allow us to compare rates of spread of inforamtion and network structures between headlines"
   ]
  },
  {
   "cell_type": "code",
   "execution_count": 636,
   "metadata": {},
   "outputs": [
    {
     "name": "stdout",
     "output_type": "stream",
     "text": [
      "----- ['racism', 'racist', 'race', 'discrimination', 'blacklivesmatter', 'alllivesmatter', 'whiteprivilege', 'white supremacy'] -----\n"
     ]
    }
   ],
   "source": [
    "net_nodes = []\n",
    "net_width = []\n",
    "net_communities = []\n",
    "net_community_labels = []\n",
    "net_modularity = []\n",
    "net_patient_zero = []\n",
    "net_largest_component = []\n",
    "social_networks = []\n",
    "\n",
    "for headline in news_headlines:\n",
    "    # subset dataframe by headline\n",
    "    # subset only RTs\n",
    "    df_temp = df[df.text.apply(lambda B: sum([re.search(a,B.lower()) != None for a in headline]) >= min(1,len(headline)))]\n",
    "    df_temp = df_temp[df_temp.retweet_user_name.notna()]\n",
    "    # get the list of connected nodes\n",
    "    nodes_retweets = df_temp.loc[df_temp.retweet_user_name.notna(),['user_name','retweet_user_name']]\n",
    "    # get unique pairs of nodes and count to create weighted edges\n",
    "    df_RTs = nodes_retweets.groupby(['user_name','retweet_user_name']).agg({'retweet_user_name':'count'})\n",
    "    df_RTs = df_RTs.rename(columns={'retweet_user_name':'RT_count'})\n",
    "    df_RTs.reset_index(inplace=True)\n",
    "    # initialize the graph and add nodes + edges\n",
    "    # get the biggest connected component\n",
    "    N = nx.DiGraph()\n",
    "    e = zip(df_RTs.user_name,df_RTs.retweet_user_name,df_RTs.RT_count.apply(lambda x: {'weight':x}))\n",
    "    N.add_edges_from(e)\n",
    "    N.remove_edges_from(N.selfloop_edges())\n",
    "    N_subgraphs = sorted(nx.connected_component_subgraphs(N.to_undirected()), key=len, reverse=True)\n",
    "    S = N_subgraphs[0]\n",
    "    # find communities\n",
    "    partition = community.best_partition(S.to_undirected())\n",
    "    node_community = [partition.get(node) for node in S.nodes()]\n",
    "    node_names = [node for node in S.nodes()]\n",
    "    temp_community = pd.DataFrame(node_names,node_community).reset_index()\n",
    "    temp_community.columns = ['community','user_name']\n",
    "    \n",
    "    pr = nx.pagerank(S)\n",
    "    for n, d in S.nodes(data=True):\n",
    "        d['pagerank'] = pr[n]\n",
    "        d['community'] = partition[n]\n",
    "\n",
    "    # find patient zero\n",
    "    v0 = df_temp.loc[df_temp.retweet_user_name.isin(node_names)].sort_values('date').iloc[0,13]\n",
    "    # export biggest component graph\n",
    "    nx.write_gexf(S,'RT_big_component %s.gexf' % '-'.join(headline))\n",
    "    print('----- %s -----' % headline)\n",
    "    # shortest path of each node from the source (patient zero)\n",
    "    width = nx.single_source_shortest_path_length(S,source=v0)\n",
    "    \n",
    "    net_nodes.append(len(df_RTs))\n",
    "    net_width.append(width)\n",
    "    net_communities.append(len(set(node_community)))\n",
    "    net_community_labels.append(temp_community)\n",
    "    net_modularity.append(community.modularity(partition,N_subgraphs[0].to_undirected()))\n",
    "    net_patient_zero.append(v0)\n",
    "    net_largest_component.append(len(S))\n",
    "    social_networks.append(S)"
   ]
  },
  {
   "cell_type": "code",
   "execution_count": 637,
   "metadata": {},
   "outputs": [
    {
     "name": "stdout",
     "output_type": "stream",
     "text": [
      "69848\n",
      "Size of largest connected components: [57022, 1722, 123, 93, 74, 57, 56, 55, 46, 45, 43, 39, 38, 36, 35, 32, 32, 31, 30, 29]\n"
     ]
    }
   ],
   "source": [
    "print(len(N))\n",
    "print('Size of largest connected components:', [len(g) for g in N_subgraphs[:20]])"
   ]
  },
  {
   "cell_type": "code",
   "execution_count": 638,
   "metadata": {},
   "outputs": [
    {
     "data": {
      "text/html": [
       "<div>\n",
       "<style scoped>\n",
       "    .dataframe tbody tr th:only-of-type {\n",
       "        vertical-align: middle;\n",
       "    }\n",
       "\n",
       "    .dataframe tbody tr th {\n",
       "        vertical-align: top;\n",
       "    }\n",
       "\n",
       "    .dataframe thead th {\n",
       "        text-align: right;\n",
       "    }\n",
       "</style>\n",
       "<table border=\"1\" class=\"dataframe\">\n",
       "  <thead>\n",
       "    <tr style=\"text-align: right;\">\n",
       "      <th></th>\n",
       "      <th>headline</th>\n",
       "      <th>size</th>\n",
       "      <th>largest_component</th>\n",
       "      <th>patient_zero</th>\n",
       "      <th>communities</th>\n",
       "      <th>modularity</th>\n",
       "    </tr>\n",
       "  </thead>\n",
       "  <tbody>\n",
       "    <tr>\n",
       "      <th>0</th>\n",
       "      <td>[racism, racist, race, discrimination, blackli...</td>\n",
       "      <td>72792</td>\n",
       "      <td>57022</td>\n",
       "      <td>FutbolsaCountry</td>\n",
       "      <td>106</td>\n",
       "      <td>0.913636</td>\n",
       "    </tr>\n",
       "  </tbody>\n",
       "</table>\n",
       "</div>"
      ],
      "text/plain": [
       "                                            headline   size  \\\n",
       "0  [racism, racist, race, discrimination, blackli...  72792   \n",
       "\n",
       "   largest_component     patient_zero  communities  modularity  \n",
       "0              57022  FutbolsaCountry          106    0.913636  "
      ]
     },
     "execution_count": 638,
     "metadata": {},
     "output_type": "execute_result"
    }
   ],
   "source": [
    "df_headlines['size'] = net_nodes\n",
    "df_headlines['largest_component'] = net_largest_component\n",
    "df_headlines['patient_zero'] = net_patient_zero\n",
    "df_headlines['communities'] = net_communities\n",
    "df_headlines['modularity'] = net_modularity\n",
    "df_headlines.to_csv('./tweet_data/network_racism.csv')\n",
    "df_headlines"
   ]
  },
  {
   "cell_type": "code",
   "execution_count": 612,
   "metadata": {},
   "outputs": [],
   "source": [
    "df_spread = pd.DataFrame()\n",
    "k = 0\n",
    "\n",
    "for net in net_width:\n",
    "    df_width = pd.DataFrame(list(net.items()))\n",
    "    df_width.columns = ['user_name','source_path']\n",
    "    df_width['headline'] = '-'.join(news_headlines[k])\n",
    "    df_width = pd.merge(df,df_width,how='inner',on='user_name')\n",
    "    df_width = pd.merge(df_width,net_community_labels[k],how='inner',on='user_name')\n",
    "    df_spread = pd.concat([df_spread,df_width])\n",
    "    k += 1\n",
    "    \n",
    "df_spread.to_csv('./tweet_data/processed_CSVs/racism.csv')"
   ]
  },
  {
   "cell_type": "code",
   "execution_count": 615,
   "metadata": {},
   "outputs": [],
   "source": [
    "aggregation = {\n",
    "    'id':'count',\n",
    "    'source_path':'median'\n",
    "}"
   ]
  },
  {
   "cell_type": "code",
   "execution_count": 616,
   "metadata": {},
   "outputs": [
    {
     "data": {
      "text/html": [
       "<div>\n",
       "<style scoped>\n",
       "    .dataframe tbody tr th:only-of-type {\n",
       "        vertical-align: middle;\n",
       "    }\n",
       "\n",
       "    .dataframe tbody tr th {\n",
       "        vertical-align: top;\n",
       "    }\n",
       "\n",
       "    .dataframe thead th {\n",
       "        text-align: right;\n",
       "    }\n",
       "</style>\n",
       "<table border=\"1\" class=\"dataframe\">\n",
       "  <thead>\n",
       "    <tr style=\"text-align: right;\">\n",
       "      <th></th>\n",
       "      <th>headline</th>\n",
       "      <th>date_hour</th>\n",
       "      <th>id</th>\n",
       "      <th>source_path</th>\n",
       "    </tr>\n",
       "  </thead>\n",
       "  <tbody>\n",
       "    <tr>\n",
       "      <th>0</th>\n",
       "      <td>lgbtq-gay-bisexual-lesbian-trans-transgender-b...</td>\n",
       "      <td>2018-12-10 19:00:00</td>\n",
       "      <td>2117</td>\n",
       "      <td>3</td>\n",
       "    </tr>\n",
       "    <tr>\n",
       "      <th>1</th>\n",
       "      <td>lgbtq-gay-bisexual-lesbian-trans-transgender-b...</td>\n",
       "      <td>2018-12-10 20:00:00</td>\n",
       "      <td>5433</td>\n",
       "      <td>3</td>\n",
       "    </tr>\n",
       "    <tr>\n",
       "      <th>2</th>\n",
       "      <td>lgbtq-gay-bisexual-lesbian-trans-transgender-b...</td>\n",
       "      <td>2018-12-10 21:00:00</td>\n",
       "      <td>5864</td>\n",
       "      <td>3</td>\n",
       "    </tr>\n",
       "    <tr>\n",
       "      <th>3</th>\n",
       "      <td>lgbtq-gay-bisexual-lesbian-trans-transgender-b...</td>\n",
       "      <td>2018-12-10 22:00:00</td>\n",
       "      <td>5916</td>\n",
       "      <td>3</td>\n",
       "    </tr>\n",
       "    <tr>\n",
       "      <th>4</th>\n",
       "      <td>lgbtq-gay-bisexual-lesbian-trans-transgender-b...</td>\n",
       "      <td>2018-12-10 23:00:00</td>\n",
       "      <td>6232</td>\n",
       "      <td>3</td>\n",
       "    </tr>\n",
       "  </tbody>\n",
       "</table>\n",
       "</div>"
      ],
      "text/plain": [
       "                                            headline           date_hour  \\\n",
       "0  lgbtq-gay-bisexual-lesbian-trans-transgender-b... 2018-12-10 19:00:00   \n",
       "1  lgbtq-gay-bisexual-lesbian-trans-transgender-b... 2018-12-10 20:00:00   \n",
       "2  lgbtq-gay-bisexual-lesbian-trans-transgender-b... 2018-12-10 21:00:00   \n",
       "3  lgbtq-gay-bisexual-lesbian-trans-transgender-b... 2018-12-10 22:00:00   \n",
       "4  lgbtq-gay-bisexual-lesbian-trans-transgender-b... 2018-12-10 23:00:00   \n",
       "\n",
       "     id  source_path  \n",
       "0  2117            3  \n",
       "1  5433            3  \n",
       "2  5864            3  \n",
       "3  5916            3  \n",
       "4  6232            3  "
      ]
     },
     "execution_count": 616,
     "metadata": {},
     "output_type": "execute_result"
    }
   ],
   "source": [
    "df_spread_plot = df_spread.groupby(['headline','date_hour']).agg(aggregation).reset_index()\n",
    "df_spread_plot.head()"
   ]
  },
  {
   "cell_type": "code",
   "execution_count": 617,
   "metadata": {},
   "outputs": [
    {
     "data": {
      "text/plain": [
       "<matplotlib.axes._subplots.AxesSubplot at 0x1f74ccd0b70>"
      ]
     },
     "execution_count": 617,
     "metadata": {},
     "output_type": "execute_result"
    },
    {
     "data": {
      "image/png": "[encoded data removed]",
      "text/plain": [
       "<Figure size 432x288 with 1 Axes>"
      ]
     },
     "metadata": {
      "needs_background": "light"
     },
     "output_type": "display_data"
    }
   ],
   "source": [
    "df_spread_plot.pivot(index='date_hour',columns='headline',values='id').plot()\n",
    "# plt.savefig('headline1.pdf')"
   ]
  },
  {
   "cell_type": "code",
   "execution_count": null,
   "metadata": {},
   "outputs": [],
   "source": []
  },
  {
   "cell_type": "code",
   "execution_count": null,
   "metadata": {},
   "outputs": [],
   "source": []
  },
  {
   "cell_type": "code",
   "execution_count": null,
   "metadata": {},
   "outputs": [],
   "source": []
  },
  {
   "cell_type": "code",
   "execution_count": null,
   "metadata": {},
   "outputs": [],
   "source": []
  },
  {
   "cell_type": "markdown",
   "metadata": {},
   "source": [
    "## Run loop for finding topics in communities"
   ]
  },
  {
   "cell_type": "code",
   "execution_count": null,
   "metadata": {},
   "outputs": [],
   "source": []
  },
  {
   "cell_type": "code",
   "execution_count": null,
   "metadata": {},
   "outputs": [],
   "source": []
  },
  {
   "cell_type": "code",
   "execution_count": null,
   "metadata": {},
   "outputs": [],
   "source": []
  }
 ],
 "metadata": {
  "kernelspec": {
   "display_name": "Python 3",
   "language": "python",
   "name": "python3"
  },
  "language_info": {
   "codemirror_mode": {
    "name": "ipython",
    "version": 3
   },
   "file_extension": ".py",
   "mimetype": "text/x-python",
   "name": "python",
   "nbconvert_exporter": "python",
   "pygments_lexer": "ipython3",
   "version": "3.6.4"
  }
 },
 "nbformat": 4,
 "nbformat_minor": 2
}
